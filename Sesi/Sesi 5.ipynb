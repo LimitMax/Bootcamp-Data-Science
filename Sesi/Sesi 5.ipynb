{
 "cells": [
  {
   "cell_type": "code",
   "execution_count": 4,
   "metadata": {
    "collapsed": true
   },
   "outputs": [],
   "source": [
    "import pandas as pd\n",
    "import numpy as np"
   ]
  },
  {
   "cell_type": "markdown",
   "source": [
    "Import file csv,excel,etc."
   ],
   "metadata": {
    "collapsed": false
   }
  },
  {
   "cell_type": "code",
   "execution_count": 5,
   "outputs": [],
   "source": [
    "df = pd.read_csv('https://raw.githubusercontent.com/ardhiraka/PFDS_sources/master/nbaallelo.csv')"
   ],
   "metadata": {
    "collapsed": false
   }
  },
  {
   "cell_type": "markdown",
   "source": [
    "Melihat jumlah data"
   ],
   "metadata": {
    "collapsed": false
   }
  },
  {
   "cell_type": "code",
   "execution_count": 9,
   "outputs": [
    {
     "data": {
      "text/plain": "126314"
     },
     "execution_count": 9,
     "metadata": {},
     "output_type": "execute_result"
    }
   ],
   "source": [
    "len(df)"
   ],
   "metadata": {
    "collapsed": false
   }
  },
  {
   "cell_type": "markdown",
   "source": [
    "Melihat jumlah data dan kolom"
   ],
   "metadata": {
    "collapsed": false
   }
  },
  {
   "cell_type": "code",
   "execution_count": 8,
   "outputs": [
    {
     "data": {
      "text/plain": "(126314, 23)"
     },
     "execution_count": 8,
     "metadata": {},
     "output_type": "execute_result"
    }
   ],
   "source": [
    "df.shape"
   ],
   "metadata": {
    "collapsed": false
   }
  },
  {
   "cell_type": "markdown",
   "source": [
    "Tampilkan 5 data teratas dan terbawah"
   ],
   "metadata": {
    "collapsed": false
   }
  },
  {
   "cell_type": "code",
   "execution_count": 10,
   "outputs": [
    {
     "data": {
      "text/plain": "   gameorder       game_id lg_id  _iscopy  year_id  date_game  seasongame  \\\n0          1  194611010TRH   NBA        0     1947  11/1/1946           1   \n1          1  194611010TRH   NBA        1     1947  11/1/1946           1   \n2          2  194611020CHS   NBA        0     1947  11/2/1946           1   \n3          2  194611020CHS   NBA        1     1947  11/2/1946           2   \n4          3  194611020DTF   NBA        0     1947  11/2/1946           1   \n\n   is_playoffs team_id  fran_id  ...  win_equiv  opp_id  opp_fran  opp_pts  \\\n0            0     TRH  Huskies  ...  40.294830     NYK    Knicks       68   \n1            0     NYK   Knicks  ...  41.705170     TRH   Huskies       66   \n2            0     CHS    Stags  ...  42.012257     NYK    Knicks       47   \n3            0     NYK   Knicks  ...  40.692783     CHS     Stags       63   \n4            0     DTF  Falcons  ...  38.864048     WSC  Capitols       50   \n\n   opp_elo_i  opp_elo_n  game_location  game_result  forecast notes  \n0  1300.0000  1306.7233              H            L  0.640065   NaN  \n1  1300.0000  1293.2767              A            W  0.359935   NaN  \n2  1306.7233  1297.0712              H            W  0.631101   NaN  \n3  1300.0000  1309.6521              A            L  0.368899   NaN  \n4  1300.0000  1320.3811              H            L  0.640065   NaN  \n\n[5 rows x 23 columns]",
      "text/html": "<div>\n<style scoped>\n    .dataframe tbody tr th:only-of-type {\n        vertical-align: middle;\n    }\n\n    .dataframe tbody tr th {\n        vertical-align: top;\n    }\n\n    .dataframe thead th {\n        text-align: right;\n    }\n</style>\n<table border=\"1\" class=\"dataframe\">\n  <thead>\n    <tr style=\"text-align: right;\">\n      <th></th>\n      <th>gameorder</th>\n      <th>game_id</th>\n      <th>lg_id</th>\n      <th>_iscopy</th>\n      <th>year_id</th>\n      <th>date_game</th>\n      <th>seasongame</th>\n      <th>is_playoffs</th>\n      <th>team_id</th>\n      <th>fran_id</th>\n      <th>...</th>\n      <th>win_equiv</th>\n      <th>opp_id</th>\n      <th>opp_fran</th>\n      <th>opp_pts</th>\n      <th>opp_elo_i</th>\n      <th>opp_elo_n</th>\n      <th>game_location</th>\n      <th>game_result</th>\n      <th>forecast</th>\n      <th>notes</th>\n    </tr>\n  </thead>\n  <tbody>\n    <tr>\n      <th>0</th>\n      <td>1</td>\n      <td>194611010TRH</td>\n      <td>NBA</td>\n      <td>0</td>\n      <td>1947</td>\n      <td>11/1/1946</td>\n      <td>1</td>\n      <td>0</td>\n      <td>TRH</td>\n      <td>Huskies</td>\n      <td>...</td>\n      <td>40.294830</td>\n      <td>NYK</td>\n      <td>Knicks</td>\n      <td>68</td>\n      <td>1300.0000</td>\n      <td>1306.7233</td>\n      <td>H</td>\n      <td>L</td>\n      <td>0.640065</td>\n      <td>NaN</td>\n    </tr>\n    <tr>\n      <th>1</th>\n      <td>1</td>\n      <td>194611010TRH</td>\n      <td>NBA</td>\n      <td>1</td>\n      <td>1947</td>\n      <td>11/1/1946</td>\n      <td>1</td>\n      <td>0</td>\n      <td>NYK</td>\n      <td>Knicks</td>\n      <td>...</td>\n      <td>41.705170</td>\n      <td>TRH</td>\n      <td>Huskies</td>\n      <td>66</td>\n      <td>1300.0000</td>\n      <td>1293.2767</td>\n      <td>A</td>\n      <td>W</td>\n      <td>0.359935</td>\n      <td>NaN</td>\n    </tr>\n    <tr>\n      <th>2</th>\n      <td>2</td>\n      <td>194611020CHS</td>\n      <td>NBA</td>\n      <td>0</td>\n      <td>1947</td>\n      <td>11/2/1946</td>\n      <td>1</td>\n      <td>0</td>\n      <td>CHS</td>\n      <td>Stags</td>\n      <td>...</td>\n      <td>42.012257</td>\n      <td>NYK</td>\n      <td>Knicks</td>\n      <td>47</td>\n      <td>1306.7233</td>\n      <td>1297.0712</td>\n      <td>H</td>\n      <td>W</td>\n      <td>0.631101</td>\n      <td>NaN</td>\n    </tr>\n    <tr>\n      <th>3</th>\n      <td>2</td>\n      <td>194611020CHS</td>\n      <td>NBA</td>\n      <td>1</td>\n      <td>1947</td>\n      <td>11/2/1946</td>\n      <td>2</td>\n      <td>0</td>\n      <td>NYK</td>\n      <td>Knicks</td>\n      <td>...</td>\n      <td>40.692783</td>\n      <td>CHS</td>\n      <td>Stags</td>\n      <td>63</td>\n      <td>1300.0000</td>\n      <td>1309.6521</td>\n      <td>A</td>\n      <td>L</td>\n      <td>0.368899</td>\n      <td>NaN</td>\n    </tr>\n    <tr>\n      <th>4</th>\n      <td>3</td>\n      <td>194611020DTF</td>\n      <td>NBA</td>\n      <td>0</td>\n      <td>1947</td>\n      <td>11/2/1946</td>\n      <td>1</td>\n      <td>0</td>\n      <td>DTF</td>\n      <td>Falcons</td>\n      <td>...</td>\n      <td>38.864048</td>\n      <td>WSC</td>\n      <td>Capitols</td>\n      <td>50</td>\n      <td>1300.0000</td>\n      <td>1320.3811</td>\n      <td>H</td>\n      <td>L</td>\n      <td>0.640065</td>\n      <td>NaN</td>\n    </tr>\n  </tbody>\n</table>\n<p>5 rows × 23 columns</p>\n</div>"
     },
     "execution_count": 10,
     "metadata": {},
     "output_type": "execute_result"
    }
   ],
   "source": [
    "df.head()"
   ],
   "metadata": {
    "collapsed": false
   }
  },
  {
   "cell_type": "code",
   "execution_count": 11,
   "outputs": [
    {
     "data": {
      "text/plain": "        gameorder       game_id lg_id  _iscopy  year_id  date_game  \\\n126309      63155  201506110CLE   NBA        0     2015  6/11/2015   \n126310      63156  201506140GSW   NBA        0     2015  6/14/2015   \n126311      63156  201506140GSW   NBA        1     2015  6/14/2015   \n126312      63157  201506170CLE   NBA        0     2015  6/16/2015   \n126313      63157  201506170CLE   NBA        1     2015  6/16/2015   \n\n        seasongame  is_playoffs team_id    fran_id  ...  win_equiv  opp_id  \\\n126309         100            1     CLE  Cavaliers  ...  60.309792     GSW   \n126310         102            1     GSW   Warriors  ...  68.013329     CLE   \n126311         101            1     CLE  Cavaliers  ...  60.010067     GSW   \n126312         102            1     CLE  Cavaliers  ...  59.290245     GSW   \n126313         103            1     GSW   Warriors  ...  68.519516     CLE   \n\n         opp_fran  opp_pts  opp_elo_i  opp_elo_n  game_location  game_result  \\\n126309   Warriors      103  1790.9591  1809.9791              H            L   \n126310  Cavaliers       91  1704.3949  1700.7391              H            W   \n126311   Warriors      104  1809.9791  1813.6349              A            L   \n126312   Warriors      105  1813.6349  1822.2881              H            L   \n126313  Cavaliers       97  1700.7391  1692.0859              A            W   \n\n        forecast notes  \n126309  0.546572   NaN  \n126310  0.765565   NaN  \n126311  0.234435   NaN  \n126312  0.481450   NaN  \n126313  0.518550   NaN  \n\n[5 rows x 23 columns]",
      "text/html": "<div>\n<style scoped>\n    .dataframe tbody tr th:only-of-type {\n        vertical-align: middle;\n    }\n\n    .dataframe tbody tr th {\n        vertical-align: top;\n    }\n\n    .dataframe thead th {\n        text-align: right;\n    }\n</style>\n<table border=\"1\" class=\"dataframe\">\n  <thead>\n    <tr style=\"text-align: right;\">\n      <th></th>\n      <th>gameorder</th>\n      <th>game_id</th>\n      <th>lg_id</th>\n      <th>_iscopy</th>\n      <th>year_id</th>\n      <th>date_game</th>\n      <th>seasongame</th>\n      <th>is_playoffs</th>\n      <th>team_id</th>\n      <th>fran_id</th>\n      <th>...</th>\n      <th>win_equiv</th>\n      <th>opp_id</th>\n      <th>opp_fran</th>\n      <th>opp_pts</th>\n      <th>opp_elo_i</th>\n      <th>opp_elo_n</th>\n      <th>game_location</th>\n      <th>game_result</th>\n      <th>forecast</th>\n      <th>notes</th>\n    </tr>\n  </thead>\n  <tbody>\n    <tr>\n      <th>126309</th>\n      <td>63155</td>\n      <td>201506110CLE</td>\n      <td>NBA</td>\n      <td>0</td>\n      <td>2015</td>\n      <td>6/11/2015</td>\n      <td>100</td>\n      <td>1</td>\n      <td>CLE</td>\n      <td>Cavaliers</td>\n      <td>...</td>\n      <td>60.309792</td>\n      <td>GSW</td>\n      <td>Warriors</td>\n      <td>103</td>\n      <td>1790.9591</td>\n      <td>1809.9791</td>\n      <td>H</td>\n      <td>L</td>\n      <td>0.546572</td>\n      <td>NaN</td>\n    </tr>\n    <tr>\n      <th>126310</th>\n      <td>63156</td>\n      <td>201506140GSW</td>\n      <td>NBA</td>\n      <td>0</td>\n      <td>2015</td>\n      <td>6/14/2015</td>\n      <td>102</td>\n      <td>1</td>\n      <td>GSW</td>\n      <td>Warriors</td>\n      <td>...</td>\n      <td>68.013329</td>\n      <td>CLE</td>\n      <td>Cavaliers</td>\n      <td>91</td>\n      <td>1704.3949</td>\n      <td>1700.7391</td>\n      <td>H</td>\n      <td>W</td>\n      <td>0.765565</td>\n      <td>NaN</td>\n    </tr>\n    <tr>\n      <th>126311</th>\n      <td>63156</td>\n      <td>201506140GSW</td>\n      <td>NBA</td>\n      <td>1</td>\n      <td>2015</td>\n      <td>6/14/2015</td>\n      <td>101</td>\n      <td>1</td>\n      <td>CLE</td>\n      <td>Cavaliers</td>\n      <td>...</td>\n      <td>60.010067</td>\n      <td>GSW</td>\n      <td>Warriors</td>\n      <td>104</td>\n      <td>1809.9791</td>\n      <td>1813.6349</td>\n      <td>A</td>\n      <td>L</td>\n      <td>0.234435</td>\n      <td>NaN</td>\n    </tr>\n    <tr>\n      <th>126312</th>\n      <td>63157</td>\n      <td>201506170CLE</td>\n      <td>NBA</td>\n      <td>0</td>\n      <td>2015</td>\n      <td>6/16/2015</td>\n      <td>102</td>\n      <td>1</td>\n      <td>CLE</td>\n      <td>Cavaliers</td>\n      <td>...</td>\n      <td>59.290245</td>\n      <td>GSW</td>\n      <td>Warriors</td>\n      <td>105</td>\n      <td>1813.6349</td>\n      <td>1822.2881</td>\n      <td>H</td>\n      <td>L</td>\n      <td>0.481450</td>\n      <td>NaN</td>\n    </tr>\n    <tr>\n      <th>126313</th>\n      <td>63157</td>\n      <td>201506170CLE</td>\n      <td>NBA</td>\n      <td>1</td>\n      <td>2015</td>\n      <td>6/16/2015</td>\n      <td>103</td>\n      <td>1</td>\n      <td>GSW</td>\n      <td>Warriors</td>\n      <td>...</td>\n      <td>68.519516</td>\n      <td>CLE</td>\n      <td>Cavaliers</td>\n      <td>97</td>\n      <td>1700.7391</td>\n      <td>1692.0859</td>\n      <td>A</td>\n      <td>W</td>\n      <td>0.518550</td>\n      <td>NaN</td>\n    </tr>\n  </tbody>\n</table>\n<p>5 rows × 23 columns</p>\n</div>"
     },
     "execution_count": 11,
     "metadata": {},
     "output_type": "execute_result"
    }
   ],
   "source": [
    "df.tail()"
   ],
   "metadata": {
    "collapsed": false
   }
  },
  {
   "cell_type": "markdown",
   "source": [
    "Cek info dari file csv"
   ],
   "metadata": {
    "collapsed": false
   }
  },
  {
   "cell_type": "code",
   "execution_count": 12,
   "outputs": [
    {
     "name": "stdout",
     "output_type": "stream",
     "text": [
      "<class 'pandas.core.frame.DataFrame'>\n",
      "RangeIndex: 126314 entries, 0 to 126313\n",
      "Data columns (total 23 columns):\n",
      " #   Column         Non-Null Count   Dtype  \n",
      "---  ------         --------------   -----  \n",
      " 0   gameorder      126314 non-null  int64  \n",
      " 1   game_id        126314 non-null  object \n",
      " 2   lg_id          126314 non-null  object \n",
      " 3   _iscopy        126314 non-null  int64  \n",
      " 4   year_id        126314 non-null  int64  \n",
      " 5   date_game      126314 non-null  object \n",
      " 6   seasongame     126314 non-null  int64  \n",
      " 7   is_playoffs    126314 non-null  int64  \n",
      " 8   team_id        126314 non-null  object \n",
      " 9   fran_id        126314 non-null  object \n",
      " 10  pts            126314 non-null  int64  \n",
      " 11  elo_i          126314 non-null  float64\n",
      " 12  elo_n          126314 non-null  float64\n",
      " 13  win_equiv      126314 non-null  float64\n",
      " 14  opp_id         126314 non-null  object \n",
      " 15  opp_fran       126314 non-null  object \n",
      " 16  opp_pts        126314 non-null  int64  \n",
      " 17  opp_elo_i      126314 non-null  float64\n",
      " 18  opp_elo_n      126314 non-null  float64\n",
      " 19  game_location  126314 non-null  object \n",
      " 20  game_result    126314 non-null  object \n",
      " 21  forecast       126314 non-null  float64\n",
      " 22  notes          5424 non-null    object \n",
      "dtypes: float64(6), int64(7), object(10)\n",
      "memory usage: 22.2+ MB\n"
     ]
    }
   ],
   "source": [
    "df.info()"
   ],
   "metadata": {
    "collapsed": false
   }
  },
  {
   "cell_type": "markdown",
   "source": [
    "Melihat nilai yang adap pada file csv"
   ],
   "metadata": {
    "collapsed": false
   }
  },
  {
   "cell_type": "code",
   "execution_count": 13,
   "outputs": [
    {
     "data": {
      "text/plain": "           gameorder        _iscopy        year_id     seasongame  \\\ncount  126314.000000  126314.000000  126314.000000  126314.000000   \nmean    31579.000000       0.500000    1988.200374      43.533733   \nstd     18231.927643       0.500002      17.582309      25.375178   \nmin         1.000000       0.000000    1947.000000       1.000000   \n25%     15790.000000       0.000000    1975.000000      22.000000   \n50%     31579.000000       0.500000    1990.000000      43.000000   \n75%     47368.000000       1.000000    2003.000000      65.000000   \nmax     63157.000000       1.000000    2015.000000     108.000000   \n\n         is_playoffs            pts          elo_i          elo_n  \\\ncount  126314.000000  126314.000000  126314.000000  126314.000000   \nmean        0.063857     102.729982    1495.236055    1495.236055   \nstd         0.244499      14.814845     112.139945     112.461687   \nmin         0.000000       0.000000    1091.644500    1085.774400   \n25%         0.000000      93.000000    1417.237975    1416.994900   \n50%         0.000000     103.000000    1500.945550    1500.954400   \n75%         0.000000     112.000000    1576.060000    1576.291625   \nmax         1.000000     186.000000    1853.104500    1853.104500   \n\n           win_equiv        opp_pts      opp_elo_i      opp_elo_n  \\\ncount  126314.000000  126314.000000  126314.000000  126314.000000   \nmean       41.707889     102.729982    1495.236055    1495.236055   \nstd        10.627332      14.814845     112.139945     112.461687   \nmin        10.152501       0.000000    1091.644500    1085.774400   \n25%        34.103035      93.000000    1417.237975    1416.994900   \n50%        42.113357     103.000000    1500.945550    1500.954400   \n75%        49.635328     112.000000    1576.060000    1576.291625   \nmax        71.112038     186.000000    1853.104500    1853.104500   \n\n            forecast  \ncount  126314.000000  \nmean        0.500000  \nstd         0.215252  \nmin         0.020447  \n25%         0.327989  \n50%         0.500000  \n75%         0.672011  \nmax         0.979553  ",
      "text/html": "<div>\n<style scoped>\n    .dataframe tbody tr th:only-of-type {\n        vertical-align: middle;\n    }\n\n    .dataframe tbody tr th {\n        vertical-align: top;\n    }\n\n    .dataframe thead th {\n        text-align: right;\n    }\n</style>\n<table border=\"1\" class=\"dataframe\">\n  <thead>\n    <tr style=\"text-align: right;\">\n      <th></th>\n      <th>gameorder</th>\n      <th>_iscopy</th>\n      <th>year_id</th>\n      <th>seasongame</th>\n      <th>is_playoffs</th>\n      <th>pts</th>\n      <th>elo_i</th>\n      <th>elo_n</th>\n      <th>win_equiv</th>\n      <th>opp_pts</th>\n      <th>opp_elo_i</th>\n      <th>opp_elo_n</th>\n      <th>forecast</th>\n    </tr>\n  </thead>\n  <tbody>\n    <tr>\n      <th>count</th>\n      <td>126314.000000</td>\n      <td>126314.000000</td>\n      <td>126314.000000</td>\n      <td>126314.000000</td>\n      <td>126314.000000</td>\n      <td>126314.000000</td>\n      <td>126314.000000</td>\n      <td>126314.000000</td>\n      <td>126314.000000</td>\n      <td>126314.000000</td>\n      <td>126314.000000</td>\n      <td>126314.000000</td>\n      <td>126314.000000</td>\n    </tr>\n    <tr>\n      <th>mean</th>\n      <td>31579.000000</td>\n      <td>0.500000</td>\n      <td>1988.200374</td>\n      <td>43.533733</td>\n      <td>0.063857</td>\n      <td>102.729982</td>\n      <td>1495.236055</td>\n      <td>1495.236055</td>\n      <td>41.707889</td>\n      <td>102.729982</td>\n      <td>1495.236055</td>\n      <td>1495.236055</td>\n      <td>0.500000</td>\n    </tr>\n    <tr>\n      <th>std</th>\n      <td>18231.927643</td>\n      <td>0.500002</td>\n      <td>17.582309</td>\n      <td>25.375178</td>\n      <td>0.244499</td>\n      <td>14.814845</td>\n      <td>112.139945</td>\n      <td>112.461687</td>\n      <td>10.627332</td>\n      <td>14.814845</td>\n      <td>112.139945</td>\n      <td>112.461687</td>\n      <td>0.215252</td>\n    </tr>\n    <tr>\n      <th>min</th>\n      <td>1.000000</td>\n      <td>0.000000</td>\n      <td>1947.000000</td>\n      <td>1.000000</td>\n      <td>0.000000</td>\n      <td>0.000000</td>\n      <td>1091.644500</td>\n      <td>1085.774400</td>\n      <td>10.152501</td>\n      <td>0.000000</td>\n      <td>1091.644500</td>\n      <td>1085.774400</td>\n      <td>0.020447</td>\n    </tr>\n    <tr>\n      <th>25%</th>\n      <td>15790.000000</td>\n      <td>0.000000</td>\n      <td>1975.000000</td>\n      <td>22.000000</td>\n      <td>0.000000</td>\n      <td>93.000000</td>\n      <td>1417.237975</td>\n      <td>1416.994900</td>\n      <td>34.103035</td>\n      <td>93.000000</td>\n      <td>1417.237975</td>\n      <td>1416.994900</td>\n      <td>0.327989</td>\n    </tr>\n    <tr>\n      <th>50%</th>\n      <td>31579.000000</td>\n      <td>0.500000</td>\n      <td>1990.000000</td>\n      <td>43.000000</td>\n      <td>0.000000</td>\n      <td>103.000000</td>\n      <td>1500.945550</td>\n      <td>1500.954400</td>\n      <td>42.113357</td>\n      <td>103.000000</td>\n      <td>1500.945550</td>\n      <td>1500.954400</td>\n      <td>0.500000</td>\n    </tr>\n    <tr>\n      <th>75%</th>\n      <td>47368.000000</td>\n      <td>1.000000</td>\n      <td>2003.000000</td>\n      <td>65.000000</td>\n      <td>0.000000</td>\n      <td>112.000000</td>\n      <td>1576.060000</td>\n      <td>1576.291625</td>\n      <td>49.635328</td>\n      <td>112.000000</td>\n      <td>1576.060000</td>\n      <td>1576.291625</td>\n      <td>0.672011</td>\n    </tr>\n    <tr>\n      <th>max</th>\n      <td>63157.000000</td>\n      <td>1.000000</td>\n      <td>2015.000000</td>\n      <td>108.000000</td>\n      <td>1.000000</td>\n      <td>186.000000</td>\n      <td>1853.104500</td>\n      <td>1853.104500</td>\n      <td>71.112038</td>\n      <td>186.000000</td>\n      <td>1853.104500</td>\n      <td>1853.104500</td>\n      <td>0.979553</td>\n    </tr>\n  </tbody>\n</table>\n</div>"
     },
     "execution_count": 13,
     "metadata": {},
     "output_type": "execute_result"
    }
   ],
   "source": [
    "df.describe()"
   ],
   "metadata": {
    "collapsed": false
   }
  },
  {
   "cell_type": "markdown",
   "source": [
    "EDA (Exploration Data Analyst)"
   ],
   "metadata": {
    "collapsed": false
   }
  },
  {
   "cell_type": "code",
   "execution_count": 14,
   "outputs": [
    {
     "data": {
      "text/plain": "BOS    5997\nNYK    5769\nLAL    5078\nDET    4985\nPHI    4533\n       ... \nINJ      60\nPIT      60\nDTF      60\nTRH      60\nSDS      11\nName: team_id, Length: 104, dtype: int64"
     },
     "execution_count": 14,
     "metadata": {},
     "output_type": "execute_result"
    }
   ],
   "source": [
    "#cek jumlah tiap tim\n",
    "df['team_id'].value_counts()"
   ],
   "metadata": {
    "collapsed": false
   }
  },
  {
   "cell_type": "code",
   "execution_count": 15,
   "outputs": [
    {
     "data": {
      "text/plain": "Lakers          6024\nCeltics         5997\nKnicks          5769\nWarriors        5657\nPistons         5650\nSixers          5644\nHawks           5572\nKings           5475\nWizards         4582\nSpurs           4309\nBulls           4307\nPacers          4227\nThunder         4178\nRockets         4154\nNuggets         4120\nNets            4106\nSuns            4080\nBucks           4034\nTrailblazers    3870\nCavaliers       3810\nClippers        3733\nJazz            3555\nMavericks       3013\nHeat            2371\nPelicans        2254\nMagic           2207\nTimberwolves    2131\nGrizzlies       1657\nRaptors         1634\nHornets          894\nColonels         846\nSquires          799\nSpirits          777\nStars            756\nSounds           697\nBaltimore        467\nFloridians       440\nCondors          430\nCapitols         291\nOlympians        282\nSails            274\nStags            260\nBombers          249\nSteamrollers     168\nPackers           72\nRedskins          65\nRebels            63\nWaterloo          62\nDenver            62\nFalcons           60\nJets              60\nIronmen           60\nHuskies           60\nName: fran_id, dtype: int64"
     },
     "execution_count": 15,
     "metadata": {},
     "output_type": "execute_result"
    }
   ],
   "source": [
    "#cek jumlah data kolom fran_id\n",
    "df[\"fran_id\"].value_counts()"
   ],
   "metadata": {
    "collapsed": false
   }
  },
  {
   "cell_type": "markdown",
   "source": [
    "tim bernama \"Lakers\" memainkan 6024 pertandingan, tetapi hanya 5078 yang dimainkan oleh Los Angeles Lakers. Cari tahu siapa tim \"Lakers\" lainnya:"
   ],
   "metadata": {
    "collapsed": false
   }
  },
  {
   "cell_type": "code",
   "execution_count": 16,
   "outputs": [
    {
     "data": {
      "text/plain": "LAL    5078\nMNL     946\nName: team_id, dtype: int64"
     },
     "execution_count": 16,
     "metadata": {},
     "output_type": "execute_result"
    }
   ],
   "source": [
    "df.loc[df[\"fran_id\"] == \"Lakers\", \"team_id\"].value_counts()"
   ],
   "metadata": {
    "collapsed": false
   }
  },
  {
   "cell_type": "markdown",
   "source": [
    "Kapan tim MNL memainkan pertaningan pertama dan terakhir"
   ],
   "metadata": {
    "collapsed": false
   }
  },
  {
   "cell_type": "code",
   "execution_count": 17,
   "outputs": [
    {
     "data": {
      "text/plain": "min    1/1/1949\nmax    4/9/1959\nName: date_game, dtype: object"
     },
     "execution_count": 17,
     "metadata": {},
     "output_type": "execute_result"
    }
   ],
   "source": [
    "df.loc[df[\"team_id\"] == \"MNL\", \"date_game\"].agg((\"min\", \"max\"))"
   ],
   "metadata": {
    "collapsed": false
   }
  },
  {
   "cell_type": "markdown",
   "source": [
    "Cek jumlah point yang didapat oleh tim BOS selama mamainkan pertandingan basket"
   ],
   "metadata": {
    "collapsed": false
   }
  },
  {
   "cell_type": "code",
   "execution_count": 18,
   "outputs": [
    {
     "data": {
      "text/plain": "626484"
     },
     "execution_count": 18,
     "metadata": {},
     "output_type": "execute_result"
    }
   ],
   "source": [
    "df.loc[df[\"team_id\"] == \"BOS\", \"pts\"].sum()"
   ],
   "metadata": {
    "collapsed": false
   }
  },
  {
   "cell_type": "markdown",
   "source": [
    "Understanding Series Objects"
   ],
   "metadata": {
    "collapsed": false
   }
  },
  {
   "cell_type": "code",
   "execution_count": 19,
   "outputs": [
    {
     "data": {
      "text/plain": "0    5555\n1    7000\n2    1980\ndtype: int64"
     },
     "execution_count": 19,
     "metadata": {},
     "output_type": "execute_result"
    }
   ],
   "source": [
    "revenues = pd.Series([5555,7000,1980])\n",
    "revenues"
   ],
   "metadata": {
    "collapsed": false
   }
  },
  {
   "cell_type": "code",
   "execution_count": 20,
   "outputs": [
    {
     "data": {
      "text/plain": "array([5555, 7000, 1980])"
     },
     "execution_count": 20,
     "metadata": {},
     "output_type": "execute_result"
    }
   ],
   "source": [
    "revenues.values"
   ],
   "metadata": {
    "collapsed": false
   }
  },
  {
   "cell_type": "markdown",
   "source": [
    "create series"
   ],
   "metadata": {
    "collapsed": false
   }
  },
  {
   "cell_type": "code",
   "execution_count": 21,
   "outputs": [
    {
     "data": {
      "text/plain": "Amsterdam    4200\nToronto      8000\nTokyo        6500\ndtype: int64"
     },
     "execution_count": 21,
     "metadata": {},
     "output_type": "execute_result"
    }
   ],
   "source": [
    "city_revenues = pd.Series(\n",
    "    [4200, 8000, 6500],\n",
    "    index=[\"Amsterdam\", \"Toronto\", \"Tokyo\"]\n",
    ")\n",
    "city_revenues"
   ],
   "metadata": {
    "collapsed": false
   }
  },
  {
   "cell_type": "code",
   "execution_count": 22,
   "outputs": [
    {
     "data": {
      "text/plain": "Amsterdam    5\nTokyo        8\ndtype: int64"
     },
     "execution_count": 22,
     "metadata": {},
     "output_type": "execute_result"
    }
   ],
   "source": [
    "city_employee_count = pd.Series({\"Amsterdam\": 5, \"Tokyo\": 8})\n",
    "city_employee_count"
   ],
   "metadata": {
    "collapsed": false
   }
  },
  {
   "cell_type": "code",
   "execution_count": 23,
   "outputs": [
    {
     "data": {
      "text/plain": "Index(['Amsterdam', 'Tokyo'], dtype='object')"
     },
     "execution_count": 23,
     "metadata": {},
     "output_type": "execute_result"
    }
   ],
   "source": [
    "city_employee_count.keys()"
   ],
   "metadata": {
    "collapsed": false
   }
  },
  {
   "cell_type": "code",
   "execution_count": 24,
   "outputs": [
    {
     "data": {
      "text/plain": "True"
     },
     "execution_count": 24,
     "metadata": {},
     "output_type": "execute_result"
    }
   ],
   "source": [
    "\"Tokyo\" in city_employee_count"
   ],
   "metadata": {
    "collapsed": false
   }
  },
  {
   "cell_type": "code",
   "execution_count": 25,
   "outputs": [
    {
     "data": {
      "text/plain": "           revenue  employee_count\nAmsterdam     4200             5.0\nTokyo         6500             8.0\nToronto       8000             NaN",
      "text/html": "<div>\n<style scoped>\n    .dataframe tbody tr th:only-of-type {\n        vertical-align: middle;\n    }\n\n    .dataframe tbody tr th {\n        vertical-align: top;\n    }\n\n    .dataframe thead th {\n        text-align: right;\n    }\n</style>\n<table border=\"1\" class=\"dataframe\">\n  <thead>\n    <tr style=\"text-align: right;\">\n      <th></th>\n      <th>revenue</th>\n      <th>employee_count</th>\n    </tr>\n  </thead>\n  <tbody>\n    <tr>\n      <th>Amsterdam</th>\n      <td>4200</td>\n      <td>5.0</td>\n    </tr>\n    <tr>\n      <th>Tokyo</th>\n      <td>6500</td>\n      <td>8.0</td>\n    </tr>\n    <tr>\n      <th>Toronto</th>\n      <td>8000</td>\n      <td>NaN</td>\n    </tr>\n  </tbody>\n</table>\n</div>"
     },
     "execution_count": 25,
     "metadata": {},
     "output_type": "execute_result"
    }
   ],
   "source": [
    "city_data = pd.DataFrame({\n",
    "    \"revenue\": city_revenues,\n",
    "    \"employee_count\": city_employee_count\n",
    "})\n",
    "city_data"
   ],
   "metadata": {
    "collapsed": false
   }
  },
  {
   "cell_type": "code",
   "execution_count": 26,
   "outputs": [
    {
     "data": {
      "text/plain": "Index(['Amsterdam', 'Tokyo', 'Toronto'], dtype='object')"
     },
     "execution_count": 26,
     "metadata": {},
     "output_type": "execute_result"
    }
   ],
   "source": [
    "city_data.index"
   ],
   "metadata": {
    "collapsed": false
   }
  },
  {
   "cell_type": "code",
   "execution_count": 27,
   "outputs": [
    {
     "data": {
      "text/plain": "array([[4.2e+03, 5.0e+00],\n       [6.5e+03, 8.0e+00],\n       [8.0e+03,     nan]])"
     },
     "execution_count": 27,
     "metadata": {},
     "output_type": "execute_result"
    }
   ],
   "source": [
    "city_data.values"
   ],
   "metadata": {
    "collapsed": false
   }
  },
  {
   "cell_type": "code",
   "execution_count": 28,
   "outputs": [
    {
     "data": {
      "text/plain": "[Index(['Amsterdam', 'Tokyo', 'Toronto'], dtype='object'),\n Index(['revenue', 'employee_count'], dtype='object')]"
     },
     "execution_count": 28,
     "metadata": {},
     "output_type": "execute_result"
    }
   ],
   "source": [
    "city_data.axes"
   ],
   "metadata": {
    "collapsed": false
   }
  },
  {
   "cell_type": "code",
   "execution_count": 29,
   "outputs": [
    {
     "data": {
      "text/plain": "Index(['Amsterdam', 'Tokyo', 'Toronto'], dtype='object')"
     },
     "execution_count": 29,
     "metadata": {},
     "output_type": "execute_result"
    }
   ],
   "source": [
    "city_data.axes[0]"
   ],
   "metadata": {
    "collapsed": false
   }
  },
  {
   "cell_type": "code",
   "execution_count": 30,
   "outputs": [
    {
     "data": {
      "text/plain": "Index(['revenue', 'employee_count'], dtype='object')"
     },
     "execution_count": 30,
     "metadata": {},
     "output_type": "execute_result"
    }
   ],
   "source": [
    "city_data.keys()"
   ],
   "metadata": {
    "collapsed": false
   }
  },
  {
   "cell_type": "code",
   "execution_count": 32,
   "outputs": [
    {
     "data": {
      "text/plain": "   gameorder       game_id lg_id  _iscopy  year_id  date_game  seasongame  \\\n0          1  194611010TRH   NBA        0     1947  11/1/1946           1   \n1          1  194611010TRH   NBA        1     1947  11/1/1946           1   \n2          2  194611020CHS   NBA        0     1947  11/2/1946           1   \n3          2  194611020CHS   NBA        1     1947  11/2/1946           2   \n4          3  194611020DTF   NBA        0     1947  11/2/1946           1   \n\n   is_playoffs team_id  fran_id  ...  win_equiv  opp_id  opp_fran  opp_pts  \\\n0            0     TRH  Huskies  ...  40.294830     NYK    Knicks       68   \n1            0     NYK   Knicks  ...  41.705170     TRH   Huskies       66   \n2            0     CHS    Stags  ...  42.012257     NYK    Knicks       47   \n3            0     NYK   Knicks  ...  40.692783     CHS     Stags       63   \n4            0     DTF  Falcons  ...  38.864048     WSC  Capitols       50   \n\n   opp_elo_i  opp_elo_n  game_location  game_result  forecast notes  \n0  1300.0000  1306.7233              H            L  0.640065   NaN  \n1  1300.0000  1293.2767              A            W  0.359935   NaN  \n2  1306.7233  1297.0712              H            W  0.631101   NaN  \n3  1300.0000  1309.6521              A            L  0.368899   NaN  \n4  1300.0000  1320.3811              H            L  0.640065   NaN  \n\n[5 rows x 23 columns]",
      "text/html": "<div>\n<style scoped>\n    .dataframe tbody tr th:only-of-type {\n        vertical-align: middle;\n    }\n\n    .dataframe tbody tr th {\n        vertical-align: top;\n    }\n\n    .dataframe thead th {\n        text-align: right;\n    }\n</style>\n<table border=\"1\" class=\"dataframe\">\n  <thead>\n    <tr style=\"text-align: right;\">\n      <th></th>\n      <th>gameorder</th>\n      <th>game_id</th>\n      <th>lg_id</th>\n      <th>_iscopy</th>\n      <th>year_id</th>\n      <th>date_game</th>\n      <th>seasongame</th>\n      <th>is_playoffs</th>\n      <th>team_id</th>\n      <th>fran_id</th>\n      <th>...</th>\n      <th>win_equiv</th>\n      <th>opp_id</th>\n      <th>opp_fran</th>\n      <th>opp_pts</th>\n      <th>opp_elo_i</th>\n      <th>opp_elo_n</th>\n      <th>game_location</th>\n      <th>game_result</th>\n      <th>forecast</th>\n      <th>notes</th>\n    </tr>\n  </thead>\n  <tbody>\n    <tr>\n      <th>0</th>\n      <td>1</td>\n      <td>194611010TRH</td>\n      <td>NBA</td>\n      <td>0</td>\n      <td>1947</td>\n      <td>11/1/1946</td>\n      <td>1</td>\n      <td>0</td>\n      <td>TRH</td>\n      <td>Huskies</td>\n      <td>...</td>\n      <td>40.294830</td>\n      <td>NYK</td>\n      <td>Knicks</td>\n      <td>68</td>\n      <td>1300.0000</td>\n      <td>1306.7233</td>\n      <td>H</td>\n      <td>L</td>\n      <td>0.640065</td>\n      <td>NaN</td>\n    </tr>\n    <tr>\n      <th>1</th>\n      <td>1</td>\n      <td>194611010TRH</td>\n      <td>NBA</td>\n      <td>1</td>\n      <td>1947</td>\n      <td>11/1/1946</td>\n      <td>1</td>\n      <td>0</td>\n      <td>NYK</td>\n      <td>Knicks</td>\n      <td>...</td>\n      <td>41.705170</td>\n      <td>TRH</td>\n      <td>Huskies</td>\n      <td>66</td>\n      <td>1300.0000</td>\n      <td>1293.2767</td>\n      <td>A</td>\n      <td>W</td>\n      <td>0.359935</td>\n      <td>NaN</td>\n    </tr>\n    <tr>\n      <th>2</th>\n      <td>2</td>\n      <td>194611020CHS</td>\n      <td>NBA</td>\n      <td>0</td>\n      <td>1947</td>\n      <td>11/2/1946</td>\n      <td>1</td>\n      <td>0</td>\n      <td>CHS</td>\n      <td>Stags</td>\n      <td>...</td>\n      <td>42.012257</td>\n      <td>NYK</td>\n      <td>Knicks</td>\n      <td>47</td>\n      <td>1306.7233</td>\n      <td>1297.0712</td>\n      <td>H</td>\n      <td>W</td>\n      <td>0.631101</td>\n      <td>NaN</td>\n    </tr>\n    <tr>\n      <th>3</th>\n      <td>2</td>\n      <td>194611020CHS</td>\n      <td>NBA</td>\n      <td>1</td>\n      <td>1947</td>\n      <td>11/2/1946</td>\n      <td>2</td>\n      <td>0</td>\n      <td>NYK</td>\n      <td>Knicks</td>\n      <td>...</td>\n      <td>40.692783</td>\n      <td>CHS</td>\n      <td>Stags</td>\n      <td>63</td>\n      <td>1300.0000</td>\n      <td>1309.6521</td>\n      <td>A</td>\n      <td>L</td>\n      <td>0.368899</td>\n      <td>NaN</td>\n    </tr>\n    <tr>\n      <th>4</th>\n      <td>3</td>\n      <td>194611020DTF</td>\n      <td>NBA</td>\n      <td>0</td>\n      <td>1947</td>\n      <td>11/2/1946</td>\n      <td>1</td>\n      <td>0</td>\n      <td>DTF</td>\n      <td>Falcons</td>\n      <td>...</td>\n      <td>38.864048</td>\n      <td>WSC</td>\n      <td>Capitols</td>\n      <td>50</td>\n      <td>1300.0000</td>\n      <td>1320.3811</td>\n      <td>H</td>\n      <td>L</td>\n      <td>0.640065</td>\n      <td>NaN</td>\n    </tr>\n  </tbody>\n</table>\n<p>5 rows × 23 columns</p>\n</div>"
     },
     "execution_count": 32,
     "metadata": {},
     "output_type": "execute_result"
    }
   ],
   "source": [
    "df.head()"
   ],
   "metadata": {
    "collapsed": false
   }
  },
  {
   "cell_type": "code",
   "execution_count": 33,
   "outputs": [
    {
     "data": {
      "text/plain": "RangeIndex(start=0, stop=126314, step=1)"
     },
     "execution_count": 33,
     "metadata": {},
     "output_type": "execute_result"
    }
   ],
   "source": [
    "df.index"
   ],
   "metadata": {
    "collapsed": false
   }
  },
  {
   "cell_type": "code",
   "execution_count": 34,
   "outputs": [
    {
     "data": {
      "text/plain": "[RangeIndex(start=0, stop=126314, step=1),\n Index(['gameorder', 'game_id', 'lg_id', '_iscopy', 'year_id', 'date_game',\n        'seasongame', 'is_playoffs', 'team_id', 'fran_id', 'pts', 'elo_i',\n        'elo_n', 'win_equiv', 'opp_id', 'opp_fran', 'opp_pts', 'opp_elo_i',\n        'opp_elo_n', 'game_location', 'game_result', 'forecast', 'notes'],\n       dtype='object')]"
     },
     "execution_count": 34,
     "metadata": {},
     "output_type": "execute_result"
    }
   ],
   "source": [
    "df.axes"
   ],
   "metadata": {
    "collapsed": false
   }
  },
  {
   "cell_type": "code",
   "execution_count": 35,
   "outputs": [
    {
     "data": {
      "text/plain": "Amsterdam    4200\nToronto      8000\nTokyo        6500\ndtype: int64"
     },
     "execution_count": 35,
     "metadata": {},
     "output_type": "execute_result"
    }
   ],
   "source": [
    "city_revenues"
   ],
   "metadata": {
    "collapsed": false
   }
  },
  {
   "cell_type": "code",
   "execution_count": 36,
   "outputs": [
    {
     "data": {
      "text/plain": "8000"
     },
     "execution_count": 36,
     "metadata": {},
     "output_type": "execute_result"
    }
   ],
   "source": [
    "city_revenues[\"Toronto\"]"
   ],
   "metadata": {
    "collapsed": false
   }
  },
  {
   "cell_type": "code",
   "execution_count": 37,
   "outputs": [
    {
     "data": {
      "text/plain": "8000"
     },
     "execution_count": 37,
     "metadata": {},
     "output_type": "execute_result"
    }
   ],
   "source": [
    "city_revenues[1]"
   ],
   "metadata": {
    "collapsed": false
   }
  },
  {
   "cell_type": "code",
   "execution_count": 39,
   "outputs": [
    {
     "data": {
      "text/plain": "1       red\n2    purple\n3      blue\n5     green\n8    yellow\ndtype: object"
     },
     "execution_count": 39,
     "metadata": {},
     "output_type": "execute_result"
    }
   ],
   "source": [
    "colors = pd.Series(\n",
    "    [\"red\", \"purple\", \"blue\", \"green\", \"yellow\"],\n",
    "    index=[1, 2, 3, 5, 8]\n",
    ")\n",
    "colors"
   ],
   "metadata": {
    "collapsed": false
   }
  },
  {
   "cell_type": "code",
   "execution_count": 40,
   "outputs": [
    {
     "data": {
      "text/plain": "'red'"
     },
     "execution_count": 40,
     "metadata": {},
     "output_type": "execute_result"
    }
   ],
   "source": [
    "colors.loc[1]"
   ],
   "metadata": {
    "collapsed": false
   }
  },
  {
   "cell_type": "code",
   "execution_count": 42,
   "outputs": [
    {
     "data": {
      "text/plain": "revenue           4200.0\nemployee_count       5.0\nName: Amsterdam, dtype: float64"
     },
     "execution_count": 42,
     "metadata": {},
     "output_type": "execute_result"
    }
   ],
   "source": [
    "city_data.loc[\"Amsterdam\"]"
   ],
   "metadata": {
    "collapsed": false
   }
  },
  {
   "cell_type": "code",
   "execution_count": 43,
   "outputs": [
    {
     "data": {
      "text/plain": "         revenue  employee_count\nTokyo       6500             8.0\nToronto     8000             NaN",
      "text/html": "<div>\n<style scoped>\n    .dataframe tbody tr th:only-of-type {\n        vertical-align: middle;\n    }\n\n    .dataframe tbody tr th {\n        vertical-align: top;\n    }\n\n    .dataframe thead th {\n        text-align: right;\n    }\n</style>\n<table border=\"1\" class=\"dataframe\">\n  <thead>\n    <tr style=\"text-align: right;\">\n      <th></th>\n      <th>revenue</th>\n      <th>employee_count</th>\n    </tr>\n  </thead>\n  <tbody>\n    <tr>\n      <th>Tokyo</th>\n      <td>6500</td>\n      <td>8.0</td>\n    </tr>\n    <tr>\n      <th>Toronto</th>\n      <td>8000</td>\n      <td>NaN</td>\n    </tr>\n  </tbody>\n</table>\n</div>"
     },
     "execution_count": 43,
     "metadata": {},
     "output_type": "execute_result"
    }
   ],
   "source": [
    "city_data.loc[\"Tokyo\": \"Toronto\"]"
   ],
   "metadata": {
    "collapsed": false
   }
  },
  {
   "cell_type": "code",
   "execution_count": 44,
   "outputs": [
    {
     "data": {
      "text/plain": "revenue           6500.0\nemployee_count       8.0\nName: Tokyo, dtype: float64"
     },
     "execution_count": 44,
     "metadata": {},
     "output_type": "execute_result"
    }
   ],
   "source": [
    "city_data.iloc[1]"
   ],
   "metadata": {
    "collapsed": false
   }
  },
  {
   "cell_type": "code",
   "execution_count": 45,
   "outputs": [
    {
     "data": {
      "text/plain": "gameorder               63157\ngame_id          201506170CLE\nlg_id                     NBA\n_iscopy                     0\nyear_id                  2015\ndate_game           6/16/2015\nseasongame                102\nis_playoffs                 1\nteam_id                   CLE\nfran_id             Cavaliers\npts                        97\nelo_i               1700.7391\nelo_n               1692.0859\nwin_equiv           59.290245\nopp_id                    GSW\nopp_fran             Warriors\nopp_pts                   105\nopp_elo_i           1813.6349\nopp_elo_n           1822.2881\ngame_location               H\ngame_result                 L\nforecast              0.48145\nnotes                     NaN\nName: 126312, dtype: object"
     },
     "execution_count": 45,
     "metadata": {},
     "output_type": "execute_result"
    }
   ],
   "source": [
    "df.iloc[-2]"
   ],
   "metadata": {
    "collapsed": false
   }
  },
  {
   "cell_type": "code",
   "execution_count": 46,
   "outputs": [
    {
     "data": {
      "text/plain": "Amsterdam    4200\nTokyo        6500\nName: revenue, dtype: int64"
     },
     "execution_count": 46,
     "metadata": {},
     "output_type": "execute_result"
    }
   ],
   "source": [
    "city_data.loc[\"Amsterdam\": \"Tokyo\", \"revenue\"]"
   ],
   "metadata": {
    "collapsed": false
   }
  },
  {
   "cell_type": "code",
   "execution_count": 47,
   "outputs": [
    {
     "data": {
      "text/plain": "        gameorder       game_id lg_id  _iscopy  year_id  date_game  \\\n0               1  194611010TRH   NBA        0     1947  11/1/1946   \n1               1  194611010TRH   NBA        1     1947  11/1/1946   \n2               2  194611020CHS   NBA        0     1947  11/2/1946   \n3               2  194611020CHS   NBA        1     1947  11/2/1946   \n4               3  194611020DTF   NBA        0     1947  11/2/1946   \n...           ...           ...   ...      ...      ...        ...   \n126309      63155  201506110CLE   NBA        0     2015  6/11/2015   \n126310      63156  201506140GSW   NBA        0     2015  6/14/2015   \n126311      63156  201506140GSW   NBA        1     2015  6/14/2015   \n126312      63157  201506170CLE   NBA        0     2015  6/16/2015   \n126313      63157  201506170CLE   NBA        1     2015  6/16/2015   \n\n        seasongame  is_playoffs team_id    fran_id  ...  win_equiv  opp_id  \\\n0                1            0     TRH    Huskies  ...  40.294830     NYK   \n1                1            0     NYK     Knicks  ...  41.705170     TRH   \n2                1            0     CHS      Stags  ...  42.012257     NYK   \n3                2            0     NYK     Knicks  ...  40.692783     CHS   \n4                1            0     DTF    Falcons  ...  38.864048     WSC   \n...            ...          ...     ...        ...  ...        ...     ...   \n126309         100            1     CLE  Cavaliers  ...  60.309792     GSW   \n126310         102            1     GSW   Warriors  ...  68.013329     CLE   \n126311         101            1     CLE  Cavaliers  ...  60.010067     GSW   \n126312         102            1     CLE  Cavaliers  ...  59.290245     GSW   \n126313         103            1     GSW   Warriors  ...  68.519516     CLE   \n\n         opp_fran  opp_pts  opp_elo_i  opp_elo_n  game_location  game_result  \\\n0          Knicks       68  1300.0000  1306.7233              H            L   \n1         Huskies       66  1300.0000  1293.2767              A            W   \n2          Knicks       47  1306.7233  1297.0712              H            W   \n3           Stags       63  1300.0000  1309.6521              A            L   \n4        Capitols       50  1300.0000  1320.3811              H            L   \n...           ...      ...        ...        ...            ...          ...   \n126309   Warriors      103  1790.9591  1809.9791              H            L   \n126310  Cavaliers       91  1704.3949  1700.7391              H            W   \n126311   Warriors      104  1809.9791  1813.6349              A            L   \n126312   Warriors      105  1813.6349  1822.2881              H            L   \n126313  Cavaliers       97  1700.7391  1692.0859              A            W   \n\n        forecast notes  \n0       0.640065   NaN  \n1       0.359935   NaN  \n2       0.631101   NaN  \n3       0.368899   NaN  \n4       0.640065   NaN  \n...          ...   ...  \n126309  0.546572   NaN  \n126310  0.765565   NaN  \n126311  0.234435   NaN  \n126312  0.481450   NaN  \n126313  0.518550   NaN  \n\n[126314 rows x 23 columns]",
      "text/html": "<div>\n<style scoped>\n    .dataframe tbody tr th:only-of-type {\n        vertical-align: middle;\n    }\n\n    .dataframe tbody tr th {\n        vertical-align: top;\n    }\n\n    .dataframe thead th {\n        text-align: right;\n    }\n</style>\n<table border=\"1\" class=\"dataframe\">\n  <thead>\n    <tr style=\"text-align: right;\">\n      <th></th>\n      <th>gameorder</th>\n      <th>game_id</th>\n      <th>lg_id</th>\n      <th>_iscopy</th>\n      <th>year_id</th>\n      <th>date_game</th>\n      <th>seasongame</th>\n      <th>is_playoffs</th>\n      <th>team_id</th>\n      <th>fran_id</th>\n      <th>...</th>\n      <th>win_equiv</th>\n      <th>opp_id</th>\n      <th>opp_fran</th>\n      <th>opp_pts</th>\n      <th>opp_elo_i</th>\n      <th>opp_elo_n</th>\n      <th>game_location</th>\n      <th>game_result</th>\n      <th>forecast</th>\n      <th>notes</th>\n    </tr>\n  </thead>\n  <tbody>\n    <tr>\n      <th>0</th>\n      <td>1</td>\n      <td>194611010TRH</td>\n      <td>NBA</td>\n      <td>0</td>\n      <td>1947</td>\n      <td>11/1/1946</td>\n      <td>1</td>\n      <td>0</td>\n      <td>TRH</td>\n      <td>Huskies</td>\n      <td>...</td>\n      <td>40.294830</td>\n      <td>NYK</td>\n      <td>Knicks</td>\n      <td>68</td>\n      <td>1300.0000</td>\n      <td>1306.7233</td>\n      <td>H</td>\n      <td>L</td>\n      <td>0.640065</td>\n      <td>NaN</td>\n    </tr>\n    <tr>\n      <th>1</th>\n      <td>1</td>\n      <td>194611010TRH</td>\n      <td>NBA</td>\n      <td>1</td>\n      <td>1947</td>\n      <td>11/1/1946</td>\n      <td>1</td>\n      <td>0</td>\n      <td>NYK</td>\n      <td>Knicks</td>\n      <td>...</td>\n      <td>41.705170</td>\n      <td>TRH</td>\n      <td>Huskies</td>\n      <td>66</td>\n      <td>1300.0000</td>\n      <td>1293.2767</td>\n      <td>A</td>\n      <td>W</td>\n      <td>0.359935</td>\n      <td>NaN</td>\n    </tr>\n    <tr>\n      <th>2</th>\n      <td>2</td>\n      <td>194611020CHS</td>\n      <td>NBA</td>\n      <td>0</td>\n      <td>1947</td>\n      <td>11/2/1946</td>\n      <td>1</td>\n      <td>0</td>\n      <td>CHS</td>\n      <td>Stags</td>\n      <td>...</td>\n      <td>42.012257</td>\n      <td>NYK</td>\n      <td>Knicks</td>\n      <td>47</td>\n      <td>1306.7233</td>\n      <td>1297.0712</td>\n      <td>H</td>\n      <td>W</td>\n      <td>0.631101</td>\n      <td>NaN</td>\n    </tr>\n    <tr>\n      <th>3</th>\n      <td>2</td>\n      <td>194611020CHS</td>\n      <td>NBA</td>\n      <td>1</td>\n      <td>1947</td>\n      <td>11/2/1946</td>\n      <td>2</td>\n      <td>0</td>\n      <td>NYK</td>\n      <td>Knicks</td>\n      <td>...</td>\n      <td>40.692783</td>\n      <td>CHS</td>\n      <td>Stags</td>\n      <td>63</td>\n      <td>1300.0000</td>\n      <td>1309.6521</td>\n      <td>A</td>\n      <td>L</td>\n      <td>0.368899</td>\n      <td>NaN</td>\n    </tr>\n    <tr>\n      <th>4</th>\n      <td>3</td>\n      <td>194611020DTF</td>\n      <td>NBA</td>\n      <td>0</td>\n      <td>1947</td>\n      <td>11/2/1946</td>\n      <td>1</td>\n      <td>0</td>\n      <td>DTF</td>\n      <td>Falcons</td>\n      <td>...</td>\n      <td>38.864048</td>\n      <td>WSC</td>\n      <td>Capitols</td>\n      <td>50</td>\n      <td>1300.0000</td>\n      <td>1320.3811</td>\n      <td>H</td>\n      <td>L</td>\n      <td>0.640065</td>\n      <td>NaN</td>\n    </tr>\n    <tr>\n      <th>...</th>\n      <td>...</td>\n      <td>...</td>\n      <td>...</td>\n      <td>...</td>\n      <td>...</td>\n      <td>...</td>\n      <td>...</td>\n      <td>...</td>\n      <td>...</td>\n      <td>...</td>\n      <td>...</td>\n      <td>...</td>\n      <td>...</td>\n      <td>...</td>\n      <td>...</td>\n      <td>...</td>\n      <td>...</td>\n      <td>...</td>\n      <td>...</td>\n      <td>...</td>\n      <td>...</td>\n    </tr>\n    <tr>\n      <th>126309</th>\n      <td>63155</td>\n      <td>201506110CLE</td>\n      <td>NBA</td>\n      <td>0</td>\n      <td>2015</td>\n      <td>6/11/2015</td>\n      <td>100</td>\n      <td>1</td>\n      <td>CLE</td>\n      <td>Cavaliers</td>\n      <td>...</td>\n      <td>60.309792</td>\n      <td>GSW</td>\n      <td>Warriors</td>\n      <td>103</td>\n      <td>1790.9591</td>\n      <td>1809.9791</td>\n      <td>H</td>\n      <td>L</td>\n      <td>0.546572</td>\n      <td>NaN</td>\n    </tr>\n    <tr>\n      <th>126310</th>\n      <td>63156</td>\n      <td>201506140GSW</td>\n      <td>NBA</td>\n      <td>0</td>\n      <td>2015</td>\n      <td>6/14/2015</td>\n      <td>102</td>\n      <td>1</td>\n      <td>GSW</td>\n      <td>Warriors</td>\n      <td>...</td>\n      <td>68.013329</td>\n      <td>CLE</td>\n      <td>Cavaliers</td>\n      <td>91</td>\n      <td>1704.3949</td>\n      <td>1700.7391</td>\n      <td>H</td>\n      <td>W</td>\n      <td>0.765565</td>\n      <td>NaN</td>\n    </tr>\n    <tr>\n      <th>126311</th>\n      <td>63156</td>\n      <td>201506140GSW</td>\n      <td>NBA</td>\n      <td>1</td>\n      <td>2015</td>\n      <td>6/14/2015</td>\n      <td>101</td>\n      <td>1</td>\n      <td>CLE</td>\n      <td>Cavaliers</td>\n      <td>...</td>\n      <td>60.010067</td>\n      <td>GSW</td>\n      <td>Warriors</td>\n      <td>104</td>\n      <td>1809.9791</td>\n      <td>1813.6349</td>\n      <td>A</td>\n      <td>L</td>\n      <td>0.234435</td>\n      <td>NaN</td>\n    </tr>\n    <tr>\n      <th>126312</th>\n      <td>63157</td>\n      <td>201506170CLE</td>\n      <td>NBA</td>\n      <td>0</td>\n      <td>2015</td>\n      <td>6/16/2015</td>\n      <td>102</td>\n      <td>1</td>\n      <td>CLE</td>\n      <td>Cavaliers</td>\n      <td>...</td>\n      <td>59.290245</td>\n      <td>GSW</td>\n      <td>Warriors</td>\n      <td>105</td>\n      <td>1813.6349</td>\n      <td>1822.2881</td>\n      <td>H</td>\n      <td>L</td>\n      <td>0.481450</td>\n      <td>NaN</td>\n    </tr>\n    <tr>\n      <th>126313</th>\n      <td>63157</td>\n      <td>201506170CLE</td>\n      <td>NBA</td>\n      <td>1</td>\n      <td>2015</td>\n      <td>6/16/2015</td>\n      <td>103</td>\n      <td>1</td>\n      <td>GSW</td>\n      <td>Warriors</td>\n      <td>...</td>\n      <td>68.519516</td>\n      <td>CLE</td>\n      <td>Cavaliers</td>\n      <td>97</td>\n      <td>1700.7391</td>\n      <td>1692.0859</td>\n      <td>A</td>\n      <td>W</td>\n      <td>0.518550</td>\n      <td>NaN</td>\n    </tr>\n  </tbody>\n</table>\n<p>126314 rows × 23 columns</p>\n</div>"
     },
     "execution_count": 47,
     "metadata": {},
     "output_type": "execute_result"
    }
   ],
   "source": [
    "df"
   ],
   "metadata": {
    "collapsed": false
   }
  },
  {
   "cell_type": "code",
   "execution_count": 48,
   "outputs": [
    {
     "data": {
      "text/plain": "        gameorder       game_id lg_id  _iscopy  year_id   date_game  \\\n113656      56829  201010260BOS   NBA        1     2011  10/26/2010   \n113657      56829  201010260BOS   NBA        0     2011  10/26/2010   \n113658      56830  201010260LAL   NBA        1     2011  10/26/2010   \n113659      56830  201010260LAL   NBA        0     2011  10/26/2010   \n113660      56831  201010260POR   NBA        1     2011  10/26/2010   \n...           ...           ...   ...      ...      ...         ...   \n126309      63155  201506110CLE   NBA        0     2015   6/11/2015   \n126310      63156  201506140GSW   NBA        0     2015   6/14/2015   \n126311      63156  201506140GSW   NBA        1     2015   6/14/2015   \n126312      63157  201506170CLE   NBA        0     2015   6/16/2015   \n126313      63157  201506170CLE   NBA        1     2015   6/16/2015   \n\n        seasongame  is_playoffs team_id    fran_id  ...  win_equiv  opp_id  \\\n113656           1            0     MIA       Heat  ...  45.141479     BOS   \n113657           1            0     BOS    Celtics  ...  53.754559     MIA   \n113658           1            0     HOU    Rockets  ...  40.900764     LAL   \n113659           1            0     LAL     Lakers  ...  55.608730     HOU   \n113660           1            0     PHO       Suns  ...  53.879230     POR   \n...            ...          ...     ...        ...  ...        ...     ...   \n126309         100            1     CLE  Cavaliers  ...  60.309792     GSW   \n126310         102            1     GSW   Warriors  ...  68.013329     CLE   \n126311         101            1     CLE  Cavaliers  ...  60.010067     GSW   \n126312         102            1     CLE  Cavaliers  ...  59.290245     GSW   \n126313         103            1     GSW   Warriors  ...  68.519516     CLE   \n\n            opp_fran  opp_pts  opp_elo_i  opp_elo_n  game_location  \\\n113656       Celtics       88  1625.0994  1629.3031              A   \n113657          Heat       80  1547.3638  1543.1600              H   \n113658        Lakers      112  1647.6016  1649.2002              A   \n113659       Rockets      110  1504.1956  1502.5969              H   \n113660  Trailblazers      106  1552.8141  1565.2162              A   \n...              ...      ...        ...        ...            ...   \n126309      Warriors      103  1790.9591  1809.9791              H   \n126310     Cavaliers       91  1704.3949  1700.7391              H   \n126311      Warriors      104  1809.9791  1813.6349              A   \n126312      Warriors      105  1813.6349  1822.2881              H   \n126313     Cavaliers       97  1700.7391  1692.0859              A   \n\n        game_result  forecast notes  \n113656            L  0.264418   NaN  \n113657            W  0.735582   NaN  \n113658            L  0.197632   NaN  \n113659            W  0.802368   NaN  \n113660            L  0.485912   NaN  \n...             ...       ...   ...  \n126309            L  0.546572   NaN  \n126310            W  0.765565   NaN  \n126311            L  0.234435   NaN  \n126312            L  0.481450   NaN  \n126313            W  0.518550   NaN  \n\n[12658 rows x 23 columns]",
      "text/html": "<div>\n<style scoped>\n    .dataframe tbody tr th:only-of-type {\n        vertical-align: middle;\n    }\n\n    .dataframe tbody tr th {\n        vertical-align: top;\n    }\n\n    .dataframe thead th {\n        text-align: right;\n    }\n</style>\n<table border=\"1\" class=\"dataframe\">\n  <thead>\n    <tr style=\"text-align: right;\">\n      <th></th>\n      <th>gameorder</th>\n      <th>game_id</th>\n      <th>lg_id</th>\n      <th>_iscopy</th>\n      <th>year_id</th>\n      <th>date_game</th>\n      <th>seasongame</th>\n      <th>is_playoffs</th>\n      <th>team_id</th>\n      <th>fran_id</th>\n      <th>...</th>\n      <th>win_equiv</th>\n      <th>opp_id</th>\n      <th>opp_fran</th>\n      <th>opp_pts</th>\n      <th>opp_elo_i</th>\n      <th>opp_elo_n</th>\n      <th>game_location</th>\n      <th>game_result</th>\n      <th>forecast</th>\n      <th>notes</th>\n    </tr>\n  </thead>\n  <tbody>\n    <tr>\n      <th>113656</th>\n      <td>56829</td>\n      <td>201010260BOS</td>\n      <td>NBA</td>\n      <td>1</td>\n      <td>2011</td>\n      <td>10/26/2010</td>\n      <td>1</td>\n      <td>0</td>\n      <td>MIA</td>\n      <td>Heat</td>\n      <td>...</td>\n      <td>45.141479</td>\n      <td>BOS</td>\n      <td>Celtics</td>\n      <td>88</td>\n      <td>1625.0994</td>\n      <td>1629.3031</td>\n      <td>A</td>\n      <td>L</td>\n      <td>0.264418</td>\n      <td>NaN</td>\n    </tr>\n    <tr>\n      <th>113657</th>\n      <td>56829</td>\n      <td>201010260BOS</td>\n      <td>NBA</td>\n      <td>0</td>\n      <td>2011</td>\n      <td>10/26/2010</td>\n      <td>1</td>\n      <td>0</td>\n      <td>BOS</td>\n      <td>Celtics</td>\n      <td>...</td>\n      <td>53.754559</td>\n      <td>MIA</td>\n      <td>Heat</td>\n      <td>80</td>\n      <td>1547.3638</td>\n      <td>1543.1600</td>\n      <td>H</td>\n      <td>W</td>\n      <td>0.735582</td>\n      <td>NaN</td>\n    </tr>\n    <tr>\n      <th>113658</th>\n      <td>56830</td>\n      <td>201010260LAL</td>\n      <td>NBA</td>\n      <td>1</td>\n      <td>2011</td>\n      <td>10/26/2010</td>\n      <td>1</td>\n      <td>0</td>\n      <td>HOU</td>\n      <td>Rockets</td>\n      <td>...</td>\n      <td>40.900764</td>\n      <td>LAL</td>\n      <td>Lakers</td>\n      <td>112</td>\n      <td>1647.6016</td>\n      <td>1649.2002</td>\n      <td>A</td>\n      <td>L</td>\n      <td>0.197632</td>\n      <td>NaN</td>\n    </tr>\n    <tr>\n      <th>113659</th>\n      <td>56830</td>\n      <td>201010260LAL</td>\n      <td>NBA</td>\n      <td>0</td>\n      <td>2011</td>\n      <td>10/26/2010</td>\n      <td>1</td>\n      <td>0</td>\n      <td>LAL</td>\n      <td>Lakers</td>\n      <td>...</td>\n      <td>55.608730</td>\n      <td>HOU</td>\n      <td>Rockets</td>\n      <td>110</td>\n      <td>1504.1956</td>\n      <td>1502.5969</td>\n      <td>H</td>\n      <td>W</td>\n      <td>0.802368</td>\n      <td>NaN</td>\n    </tr>\n    <tr>\n      <th>113660</th>\n      <td>56831</td>\n      <td>201010260POR</td>\n      <td>NBA</td>\n      <td>1</td>\n      <td>2011</td>\n      <td>10/26/2010</td>\n      <td>1</td>\n      <td>0</td>\n      <td>PHO</td>\n      <td>Suns</td>\n      <td>...</td>\n      <td>53.879230</td>\n      <td>POR</td>\n      <td>Trailblazers</td>\n      <td>106</td>\n      <td>1552.8141</td>\n      <td>1565.2162</td>\n      <td>A</td>\n      <td>L</td>\n      <td>0.485912</td>\n      <td>NaN</td>\n    </tr>\n    <tr>\n      <th>...</th>\n      <td>...</td>\n      <td>...</td>\n      <td>...</td>\n      <td>...</td>\n      <td>...</td>\n      <td>...</td>\n      <td>...</td>\n      <td>...</td>\n      <td>...</td>\n      <td>...</td>\n      <td>...</td>\n      <td>...</td>\n      <td>...</td>\n      <td>...</td>\n      <td>...</td>\n      <td>...</td>\n      <td>...</td>\n      <td>...</td>\n      <td>...</td>\n      <td>...</td>\n      <td>...</td>\n    </tr>\n    <tr>\n      <th>126309</th>\n      <td>63155</td>\n      <td>201506110CLE</td>\n      <td>NBA</td>\n      <td>0</td>\n      <td>2015</td>\n      <td>6/11/2015</td>\n      <td>100</td>\n      <td>1</td>\n      <td>CLE</td>\n      <td>Cavaliers</td>\n      <td>...</td>\n      <td>60.309792</td>\n      <td>GSW</td>\n      <td>Warriors</td>\n      <td>103</td>\n      <td>1790.9591</td>\n      <td>1809.9791</td>\n      <td>H</td>\n      <td>L</td>\n      <td>0.546572</td>\n      <td>NaN</td>\n    </tr>\n    <tr>\n      <th>126310</th>\n      <td>63156</td>\n      <td>201506140GSW</td>\n      <td>NBA</td>\n      <td>0</td>\n      <td>2015</td>\n      <td>6/14/2015</td>\n      <td>102</td>\n      <td>1</td>\n      <td>GSW</td>\n      <td>Warriors</td>\n      <td>...</td>\n      <td>68.013329</td>\n      <td>CLE</td>\n      <td>Cavaliers</td>\n      <td>91</td>\n      <td>1704.3949</td>\n      <td>1700.7391</td>\n      <td>H</td>\n      <td>W</td>\n      <td>0.765565</td>\n      <td>NaN</td>\n    </tr>\n    <tr>\n      <th>126311</th>\n      <td>63156</td>\n      <td>201506140GSW</td>\n      <td>NBA</td>\n      <td>1</td>\n      <td>2015</td>\n      <td>6/14/2015</td>\n      <td>101</td>\n      <td>1</td>\n      <td>CLE</td>\n      <td>Cavaliers</td>\n      <td>...</td>\n      <td>60.010067</td>\n      <td>GSW</td>\n      <td>Warriors</td>\n      <td>104</td>\n      <td>1809.9791</td>\n      <td>1813.6349</td>\n      <td>A</td>\n      <td>L</td>\n      <td>0.234435</td>\n      <td>NaN</td>\n    </tr>\n    <tr>\n      <th>126312</th>\n      <td>63157</td>\n      <td>201506170CLE</td>\n      <td>NBA</td>\n      <td>0</td>\n      <td>2015</td>\n      <td>6/16/2015</td>\n      <td>102</td>\n      <td>1</td>\n      <td>CLE</td>\n      <td>Cavaliers</td>\n      <td>...</td>\n      <td>59.290245</td>\n      <td>GSW</td>\n      <td>Warriors</td>\n      <td>105</td>\n      <td>1813.6349</td>\n      <td>1822.2881</td>\n      <td>H</td>\n      <td>L</td>\n      <td>0.481450</td>\n      <td>NaN</td>\n    </tr>\n    <tr>\n      <th>126313</th>\n      <td>63157</td>\n      <td>201506170CLE</td>\n      <td>NBA</td>\n      <td>1</td>\n      <td>2015</td>\n      <td>6/16/2015</td>\n      <td>103</td>\n      <td>1</td>\n      <td>GSW</td>\n      <td>Warriors</td>\n      <td>...</td>\n      <td>68.519516</td>\n      <td>CLE</td>\n      <td>Cavaliers</td>\n      <td>97</td>\n      <td>1700.7391</td>\n      <td>1692.0859</td>\n      <td>A</td>\n      <td>W</td>\n      <td>0.518550</td>\n      <td>NaN</td>\n    </tr>\n  </tbody>\n</table>\n<p>12658 rows × 23 columns</p>\n</div>"
     },
     "execution_count": 48,
     "metadata": {},
     "output_type": "execute_result"
    }
   ],
   "source": [
    "current_decade = df[df[\"year_id\"] > 2010]\n",
    "current_decade"
   ],
   "metadata": {
    "collapsed": false
   }
  },
  {
   "cell_type": "code",
   "execution_count": 49,
   "outputs": [
    {
     "data": {
      "text/plain": "(12658, 23)"
     },
     "execution_count": 49,
     "metadata": {},
     "output_type": "execute_result"
    }
   ],
   "source": [
    "current_decade.shape"
   ],
   "metadata": {
    "collapsed": false
   }
  },
  {
   "cell_type": "code",
   "execution_count": 50,
   "outputs": [
    {
     "data": {
      "text/plain": "       gameorder       game_id lg_id  _iscopy  year_id date_game  seasongame  \\\n68901      34451  199205030LAC   NBA        0     1992  5/3/1992          86   \n68903      34452  199205030LAL   NBA        0     1992  5/3/1992          86   \n\n       is_playoffs team_id   fran_id  ...  win_equiv  opp_id      opp_fran  \\\n68901            1     LAC  Clippers  ...  47.888252     UTA          Jazz   \n68903            1     LAL    Lakers  ...  39.395412     POR  Trailblazers   \n\n       opp_pts  opp_elo_i  opp_elo_n  game_location  game_result  forecast  \\\n68901      107  1647.5092  1638.4095              H            W  0.499125   \n68903      102  1655.1210  1670.3677              H            L  0.406874   \n\n                                            notes  \n68901  at Anaheim, CA (Anaheim Convention Center)  \n68903                            at Las Vegas, NV  \n\n[2 rows x 23 columns]",
      "text/html": "<div>\n<style scoped>\n    .dataframe tbody tr th:only-of-type {\n        vertical-align: middle;\n    }\n\n    .dataframe tbody tr th {\n        vertical-align: top;\n    }\n\n    .dataframe thead th {\n        text-align: right;\n    }\n</style>\n<table border=\"1\" class=\"dataframe\">\n  <thead>\n    <tr style=\"text-align: right;\">\n      <th></th>\n      <th>gameorder</th>\n      <th>game_id</th>\n      <th>lg_id</th>\n      <th>_iscopy</th>\n      <th>year_id</th>\n      <th>date_game</th>\n      <th>seasongame</th>\n      <th>is_playoffs</th>\n      <th>team_id</th>\n      <th>fran_id</th>\n      <th>...</th>\n      <th>win_equiv</th>\n      <th>opp_id</th>\n      <th>opp_fran</th>\n      <th>opp_pts</th>\n      <th>opp_elo_i</th>\n      <th>opp_elo_n</th>\n      <th>game_location</th>\n      <th>game_result</th>\n      <th>forecast</th>\n      <th>notes</th>\n    </tr>\n  </thead>\n  <tbody>\n    <tr>\n      <th>68901</th>\n      <td>34451</td>\n      <td>199205030LAC</td>\n      <td>NBA</td>\n      <td>0</td>\n      <td>1992</td>\n      <td>5/3/1992</td>\n      <td>86</td>\n      <td>1</td>\n      <td>LAC</td>\n      <td>Clippers</td>\n      <td>...</td>\n      <td>47.888252</td>\n      <td>UTA</td>\n      <td>Jazz</td>\n      <td>107</td>\n      <td>1647.5092</td>\n      <td>1638.4095</td>\n      <td>H</td>\n      <td>W</td>\n      <td>0.499125</td>\n      <td>at Anaheim, CA (Anaheim Convention Center)</td>\n    </tr>\n    <tr>\n      <th>68903</th>\n      <td>34452</td>\n      <td>199205030LAL</td>\n      <td>NBA</td>\n      <td>0</td>\n      <td>1992</td>\n      <td>5/3/1992</td>\n      <td>86</td>\n      <td>1</td>\n      <td>LAL</td>\n      <td>Lakers</td>\n      <td>...</td>\n      <td>39.395412</td>\n      <td>POR</td>\n      <td>Trailblazers</td>\n      <td>102</td>\n      <td>1655.1210</td>\n      <td>1670.3677</td>\n      <td>H</td>\n      <td>L</td>\n      <td>0.406874</td>\n      <td>at Las Vegas, NV</td>\n    </tr>\n  </tbody>\n</table>\n<p>2 rows × 23 columns</p>\n</div>"
     },
     "execution_count": 50,
     "metadata": {},
     "output_type": "execute_result"
    }
   ],
   "source": [
    "df[\n",
    "    (df[\"_iscopy\"] == 0) &\n",
    "    (df[\"team_id\"].str.startswith(\"LA\")) &\n",
    "    (df[\"year_id\"] == 1992) &\n",
    "    (df[\"notes\"].notnull())\n",
    "    ]"
   ],
   "metadata": {
    "collapsed": false
   }
  },
  {
   "cell_type": "code",
   "execution_count": 51,
   "outputs": [
    {
     "data": {
      "text/plain": "   gameorder       game_id lg_id  _iscopy  year_id  date_game  seasongame  \\\n0          1  194611010TRH   NBA        0     1947  11/1/1946           1   \n1          1  194611010TRH   NBA        1     1947  11/1/1946           1   \n2          2  194611020CHS   NBA        0     1947  11/2/1946           1   \n\n   is_playoffs team_id  fran_id  ...  win_equiv  opp_id  opp_fran  opp_pts  \\\n0            0     TRH  Huskies  ...  40.294830     NYK    Knicks       68   \n1            0     NYK   Knicks  ...  41.705170     TRH   Huskies       66   \n2            0     CHS    Stags  ...  42.012257     NYK    Knicks       47   \n\n   opp_elo_i  opp_elo_n  game_location  game_result  forecast notes  \n0  1300.0000  1306.7233              H            L  0.640065   NaN  \n1  1300.0000  1293.2767              A            W  0.359935   NaN  \n2  1306.7233  1297.0712              H            W  0.631101   NaN  \n\n[3 rows x 23 columns]",
      "text/html": "<div>\n<style scoped>\n    .dataframe tbody tr th:only-of-type {\n        vertical-align: middle;\n    }\n\n    .dataframe tbody tr th {\n        vertical-align: top;\n    }\n\n    .dataframe thead th {\n        text-align: right;\n    }\n</style>\n<table border=\"1\" class=\"dataframe\">\n  <thead>\n    <tr style=\"text-align: right;\">\n      <th></th>\n      <th>gameorder</th>\n      <th>game_id</th>\n      <th>lg_id</th>\n      <th>_iscopy</th>\n      <th>year_id</th>\n      <th>date_game</th>\n      <th>seasongame</th>\n      <th>is_playoffs</th>\n      <th>team_id</th>\n      <th>fran_id</th>\n      <th>...</th>\n      <th>win_equiv</th>\n      <th>opp_id</th>\n      <th>opp_fran</th>\n      <th>opp_pts</th>\n      <th>opp_elo_i</th>\n      <th>opp_elo_n</th>\n      <th>game_location</th>\n      <th>game_result</th>\n      <th>forecast</th>\n      <th>notes</th>\n    </tr>\n  </thead>\n  <tbody>\n    <tr>\n      <th>0</th>\n      <td>1</td>\n      <td>194611010TRH</td>\n      <td>NBA</td>\n      <td>0</td>\n      <td>1947</td>\n      <td>11/1/1946</td>\n      <td>1</td>\n      <td>0</td>\n      <td>TRH</td>\n      <td>Huskies</td>\n      <td>...</td>\n      <td>40.294830</td>\n      <td>NYK</td>\n      <td>Knicks</td>\n      <td>68</td>\n      <td>1300.0000</td>\n      <td>1306.7233</td>\n      <td>H</td>\n      <td>L</td>\n      <td>0.640065</td>\n      <td>NaN</td>\n    </tr>\n    <tr>\n      <th>1</th>\n      <td>1</td>\n      <td>194611010TRH</td>\n      <td>NBA</td>\n      <td>1</td>\n      <td>1947</td>\n      <td>11/1/1946</td>\n      <td>1</td>\n      <td>0</td>\n      <td>NYK</td>\n      <td>Knicks</td>\n      <td>...</td>\n      <td>41.705170</td>\n      <td>TRH</td>\n      <td>Huskies</td>\n      <td>66</td>\n      <td>1300.0000</td>\n      <td>1293.2767</td>\n      <td>A</td>\n      <td>W</td>\n      <td>0.359935</td>\n      <td>NaN</td>\n    </tr>\n    <tr>\n      <th>2</th>\n      <td>2</td>\n      <td>194611020CHS</td>\n      <td>NBA</td>\n      <td>0</td>\n      <td>1947</td>\n      <td>11/2/1946</td>\n      <td>1</td>\n      <td>0</td>\n      <td>CHS</td>\n      <td>Stags</td>\n      <td>...</td>\n      <td>42.012257</td>\n      <td>NYK</td>\n      <td>Knicks</td>\n      <td>47</td>\n      <td>1306.7233</td>\n      <td>1297.0712</td>\n      <td>H</td>\n      <td>W</td>\n      <td>0.631101</td>\n      <td>NaN</td>\n    </tr>\n  </tbody>\n</table>\n<p>3 rows × 23 columns</p>\n</div>"
     },
     "execution_count": 51,
     "metadata": {},
     "output_type": "execute_result"
    }
   ],
   "source": [
    "df.head(3)"
   ],
   "metadata": {
    "collapsed": false
   }
  },
  {
   "cell_type": "code",
   "execution_count": 52,
   "outputs": [
    {
     "data": {
      "text/plain": "fran_id\nHuskies           3995\nKnicks          582497\nStags            20398\nFalcons           3797\nCapitols         22387\nCeltics         626484\nSteamrollers     12372\nIronmen           3674\nBombers          17793\nRebels            4474\nWarriors        591224\nBaltimore        37219\nJets              4482\nPistons         572758\nLakers          637444\nKings           569245\nHawks           567261\nDenver            4818\nOlympians        22864\nRedskins          5372\nWaterloo          4921\nPackers           6193\nSixers          585891\nWizards         474809\nBulls           437269\nThunder         437735\nSquires          91127\nStars            84940\nRockets         432504\nColonels         94435\nPacers          438288\nNuggets         445780\nSpurs           453822\nSpirits          85874\nSounds           75582\nFloridians       49568\nNets            417809\nCondors          49642\nBucks           418326\nSuns            437486\nClippers        380523\nCavaliers       380416\nTrailblazers    402695\nSails            30080\nJazz            363155\nMavericks       309239\nPelicans        220794\nHeat            229103\nTimberwolves    207693\nMagic           219436\nGrizzlies       157683\nRaptors         158370\nHornets          84489\nName: pts, dtype: int64"
     },
     "execution_count": 52,
     "metadata": {},
     "output_type": "execute_result"
    }
   ],
   "source": [
    "df.groupby(\"fran_id\", sort=False)[\"pts\"].sum()"
   ],
   "metadata": {
    "collapsed": false
   }
  },
  {
   "cell_type": "code",
   "execution_count": 53,
   "outputs": [
    {
     "data": {
      "text/plain": "year_id  game_result\n2011     L              25\n         W              63\n2012     L              20\n         W              60\n2013     L              30\n         W              73\n2014     L              27\n         W              78\n2015     L              31\n         W              58\nName: game_id, dtype: int64"
     },
     "execution_count": 53,
     "metadata": {},
     "output_type": "execute_result"
    }
   ],
   "source": [
    "df[\n",
    "    (df[\"fran_id\"] == \"Spurs\") &\n",
    "    (df[\"year_id\"] > 2010)\n",
    "    ].groupby([\"year_id\", \"game_result\"])[\"game_id\"].count()"
   ],
   "metadata": {
    "collapsed": false
   }
  },
  {
   "cell_type": "code",
   "execution_count": 54,
   "outputs": [
    {
     "data": {
      "text/plain": "is_playoffs  game_result\n0            L              15\n             W              67\n1            L               5\n             W              16\nName: game_id, dtype: int64"
     },
     "execution_count": 54,
     "metadata": {},
     "output_type": "execute_result"
    }
   ],
   "source": [
    "df[\n",
    "    (df[\"fran_id\"] == \"Warriors\") &\n",
    "    (df[\"year_id\"] == 2015)\n",
    "    ].groupby([\"is_playoffs\", \"game_result\"])[\"game_id\"].count()"
   ],
   "metadata": {
    "collapsed": false
   }
  },
  {
   "cell_type": "code",
   "execution_count": 55,
   "outputs": [
    {
     "data": {
      "text/plain": "        gameorder       game_id lg_id  _iscopy  year_id  date_game  \\\n0               1  194611010TRH   NBA        0     1947  11/1/1946   \n1               1  194611010TRH   NBA        1     1947  11/1/1946   \n2               2  194611020CHS   NBA        0     1947  11/2/1946   \n3               2  194611020CHS   NBA        1     1947  11/2/1946   \n4               3  194611020DTF   NBA        0     1947  11/2/1946   \n...           ...           ...   ...      ...      ...        ...   \n126309      63155  201506110CLE   NBA        0     2015  6/11/2015   \n126310      63156  201506140GSW   NBA        0     2015  6/14/2015   \n126311      63156  201506140GSW   NBA        1     2015  6/14/2015   \n126312      63157  201506170CLE   NBA        0     2015  6/16/2015   \n126313      63157  201506170CLE   NBA        1     2015  6/16/2015   \n\n        seasongame  is_playoffs team_id    fran_id  ...  win_equiv  opp_id  \\\n0                1            0     TRH    Huskies  ...  40.294830     NYK   \n1                1            0     NYK     Knicks  ...  41.705170     TRH   \n2                1            0     CHS      Stags  ...  42.012257     NYK   \n3                2            0     NYK     Knicks  ...  40.692783     CHS   \n4                1            0     DTF    Falcons  ...  38.864048     WSC   \n...            ...          ...     ...        ...  ...        ...     ...   \n126309         100            1     CLE  Cavaliers  ...  60.309792     GSW   \n126310         102            1     GSW   Warriors  ...  68.013329     CLE   \n126311         101            1     CLE  Cavaliers  ...  60.010067     GSW   \n126312         102            1     CLE  Cavaliers  ...  59.290245     GSW   \n126313         103            1     GSW   Warriors  ...  68.519516     CLE   \n\n         opp_fran  opp_pts  opp_elo_i  opp_elo_n  game_location  game_result  \\\n0          Knicks       68  1300.0000  1306.7233              H            L   \n1         Huskies       66  1300.0000  1293.2767              A            W   \n2          Knicks       47  1306.7233  1297.0712              H            W   \n3           Stags       63  1300.0000  1309.6521              A            L   \n4        Capitols       50  1300.0000  1320.3811              H            L   \n...           ...      ...        ...        ...            ...          ...   \n126309   Warriors      103  1790.9591  1809.9791              H            L   \n126310  Cavaliers       91  1704.3949  1700.7391              H            W   \n126311   Warriors      104  1809.9791  1813.6349              A            L   \n126312   Warriors      105  1813.6349  1822.2881              H            L   \n126313  Cavaliers       97  1700.7391  1692.0859              A            W   \n\n        forecast notes  \n0       0.640065   NaN  \n1       0.359935   NaN  \n2       0.631101   NaN  \n3       0.368899   NaN  \n4       0.640065   NaN  \n...          ...   ...  \n126309  0.546572   NaN  \n126310  0.765565   NaN  \n126311  0.234435   NaN  \n126312  0.481450   NaN  \n126313  0.518550   NaN  \n\n[126314 rows x 23 columns]",
      "text/html": "<div>\n<style scoped>\n    .dataframe tbody tr th:only-of-type {\n        vertical-align: middle;\n    }\n\n    .dataframe tbody tr th {\n        vertical-align: top;\n    }\n\n    .dataframe thead th {\n        text-align: right;\n    }\n</style>\n<table border=\"1\" class=\"dataframe\">\n  <thead>\n    <tr style=\"text-align: right;\">\n      <th></th>\n      <th>gameorder</th>\n      <th>game_id</th>\n      <th>lg_id</th>\n      <th>_iscopy</th>\n      <th>year_id</th>\n      <th>date_game</th>\n      <th>seasongame</th>\n      <th>is_playoffs</th>\n      <th>team_id</th>\n      <th>fran_id</th>\n      <th>...</th>\n      <th>win_equiv</th>\n      <th>opp_id</th>\n      <th>opp_fran</th>\n      <th>opp_pts</th>\n      <th>opp_elo_i</th>\n      <th>opp_elo_n</th>\n      <th>game_location</th>\n      <th>game_result</th>\n      <th>forecast</th>\n      <th>notes</th>\n    </tr>\n  </thead>\n  <tbody>\n    <tr>\n      <th>0</th>\n      <td>1</td>\n      <td>194611010TRH</td>\n      <td>NBA</td>\n      <td>0</td>\n      <td>1947</td>\n      <td>11/1/1946</td>\n      <td>1</td>\n      <td>0</td>\n      <td>TRH</td>\n      <td>Huskies</td>\n      <td>...</td>\n      <td>40.294830</td>\n      <td>NYK</td>\n      <td>Knicks</td>\n      <td>68</td>\n      <td>1300.0000</td>\n      <td>1306.7233</td>\n      <td>H</td>\n      <td>L</td>\n      <td>0.640065</td>\n      <td>NaN</td>\n    </tr>\n    <tr>\n      <th>1</th>\n      <td>1</td>\n      <td>194611010TRH</td>\n      <td>NBA</td>\n      <td>1</td>\n      <td>1947</td>\n      <td>11/1/1946</td>\n      <td>1</td>\n      <td>0</td>\n      <td>NYK</td>\n      <td>Knicks</td>\n      <td>...</td>\n      <td>41.705170</td>\n      <td>TRH</td>\n      <td>Huskies</td>\n      <td>66</td>\n      <td>1300.0000</td>\n      <td>1293.2767</td>\n      <td>A</td>\n      <td>W</td>\n      <td>0.359935</td>\n      <td>NaN</td>\n    </tr>\n    <tr>\n      <th>2</th>\n      <td>2</td>\n      <td>194611020CHS</td>\n      <td>NBA</td>\n      <td>0</td>\n      <td>1947</td>\n      <td>11/2/1946</td>\n      <td>1</td>\n      <td>0</td>\n      <td>CHS</td>\n      <td>Stags</td>\n      <td>...</td>\n      <td>42.012257</td>\n      <td>NYK</td>\n      <td>Knicks</td>\n      <td>47</td>\n      <td>1306.7233</td>\n      <td>1297.0712</td>\n      <td>H</td>\n      <td>W</td>\n      <td>0.631101</td>\n      <td>NaN</td>\n    </tr>\n    <tr>\n      <th>3</th>\n      <td>2</td>\n      <td>194611020CHS</td>\n      <td>NBA</td>\n      <td>1</td>\n      <td>1947</td>\n      <td>11/2/1946</td>\n      <td>2</td>\n      <td>0</td>\n      <td>NYK</td>\n      <td>Knicks</td>\n      <td>...</td>\n      <td>40.692783</td>\n      <td>CHS</td>\n      <td>Stags</td>\n      <td>63</td>\n      <td>1300.0000</td>\n      <td>1309.6521</td>\n      <td>A</td>\n      <td>L</td>\n      <td>0.368899</td>\n      <td>NaN</td>\n    </tr>\n    <tr>\n      <th>4</th>\n      <td>3</td>\n      <td>194611020DTF</td>\n      <td>NBA</td>\n      <td>0</td>\n      <td>1947</td>\n      <td>11/2/1946</td>\n      <td>1</td>\n      <td>0</td>\n      <td>DTF</td>\n      <td>Falcons</td>\n      <td>...</td>\n      <td>38.864048</td>\n      <td>WSC</td>\n      <td>Capitols</td>\n      <td>50</td>\n      <td>1300.0000</td>\n      <td>1320.3811</td>\n      <td>H</td>\n      <td>L</td>\n      <td>0.640065</td>\n      <td>NaN</td>\n    </tr>\n    <tr>\n      <th>...</th>\n      <td>...</td>\n      <td>...</td>\n      <td>...</td>\n      <td>...</td>\n      <td>...</td>\n      <td>...</td>\n      <td>...</td>\n      <td>...</td>\n      <td>...</td>\n      <td>...</td>\n      <td>...</td>\n      <td>...</td>\n      <td>...</td>\n      <td>...</td>\n      <td>...</td>\n      <td>...</td>\n      <td>...</td>\n      <td>...</td>\n      <td>...</td>\n      <td>...</td>\n      <td>...</td>\n    </tr>\n    <tr>\n      <th>126309</th>\n      <td>63155</td>\n      <td>201506110CLE</td>\n      <td>NBA</td>\n      <td>0</td>\n      <td>2015</td>\n      <td>6/11/2015</td>\n      <td>100</td>\n      <td>1</td>\n      <td>CLE</td>\n      <td>Cavaliers</td>\n      <td>...</td>\n      <td>60.309792</td>\n      <td>GSW</td>\n      <td>Warriors</td>\n      <td>103</td>\n      <td>1790.9591</td>\n      <td>1809.9791</td>\n      <td>H</td>\n      <td>L</td>\n      <td>0.546572</td>\n      <td>NaN</td>\n    </tr>\n    <tr>\n      <th>126310</th>\n      <td>63156</td>\n      <td>201506140GSW</td>\n      <td>NBA</td>\n      <td>0</td>\n      <td>2015</td>\n      <td>6/14/2015</td>\n      <td>102</td>\n      <td>1</td>\n      <td>GSW</td>\n      <td>Warriors</td>\n      <td>...</td>\n      <td>68.013329</td>\n      <td>CLE</td>\n      <td>Cavaliers</td>\n      <td>91</td>\n      <td>1704.3949</td>\n      <td>1700.7391</td>\n      <td>H</td>\n      <td>W</td>\n      <td>0.765565</td>\n      <td>NaN</td>\n    </tr>\n    <tr>\n      <th>126311</th>\n      <td>63156</td>\n      <td>201506140GSW</td>\n      <td>NBA</td>\n      <td>1</td>\n      <td>2015</td>\n      <td>6/14/2015</td>\n      <td>101</td>\n      <td>1</td>\n      <td>CLE</td>\n      <td>Cavaliers</td>\n      <td>...</td>\n      <td>60.010067</td>\n      <td>GSW</td>\n      <td>Warriors</td>\n      <td>104</td>\n      <td>1809.9791</td>\n      <td>1813.6349</td>\n      <td>A</td>\n      <td>L</td>\n      <td>0.234435</td>\n      <td>NaN</td>\n    </tr>\n    <tr>\n      <th>126312</th>\n      <td>63157</td>\n      <td>201506170CLE</td>\n      <td>NBA</td>\n      <td>0</td>\n      <td>2015</td>\n      <td>6/16/2015</td>\n      <td>102</td>\n      <td>1</td>\n      <td>CLE</td>\n      <td>Cavaliers</td>\n      <td>...</td>\n      <td>59.290245</td>\n      <td>GSW</td>\n      <td>Warriors</td>\n      <td>105</td>\n      <td>1813.6349</td>\n      <td>1822.2881</td>\n      <td>H</td>\n      <td>L</td>\n      <td>0.481450</td>\n      <td>NaN</td>\n    </tr>\n    <tr>\n      <th>126313</th>\n      <td>63157</td>\n      <td>201506170CLE</td>\n      <td>NBA</td>\n      <td>1</td>\n      <td>2015</td>\n      <td>6/16/2015</td>\n      <td>103</td>\n      <td>1</td>\n      <td>GSW</td>\n      <td>Warriors</td>\n      <td>...</td>\n      <td>68.519516</td>\n      <td>CLE</td>\n      <td>Cavaliers</td>\n      <td>97</td>\n      <td>1700.7391</td>\n      <td>1692.0859</td>\n      <td>A</td>\n      <td>W</td>\n      <td>0.518550</td>\n      <td>NaN</td>\n    </tr>\n  </tbody>\n</table>\n<p>126314 rows × 23 columns</p>\n</div>"
     },
     "execution_count": 55,
     "metadata": {},
     "output_type": "execute_result"
    }
   ],
   "source": [
    "df"
   ],
   "metadata": {
    "collapsed": false
   }
  },
  {
   "cell_type": "code",
   "execution_count": 56,
   "outputs": [],
   "source": [
    "nba = df.copy()"
   ],
   "metadata": {
    "collapsed": false
   }
  },
  {
   "cell_type": "code",
   "execution_count": 57,
   "outputs": [
    {
     "data": {
      "text/plain": "(126314, 23)"
     },
     "execution_count": 57,
     "metadata": {},
     "output_type": "execute_result"
    }
   ],
   "source": [
    "nba.shape"
   ],
   "metadata": {
    "collapsed": false
   }
  },
  {
   "cell_type": "code",
   "execution_count": 58,
   "outputs": [
    {
     "data": {
      "text/plain": "        gameorder       game_id lg_id  _iscopy  year_id  date_game  \\\n0               1  194611010TRH   NBA        0     1947  11/1/1946   \n1               1  194611010TRH   NBA        1     1947  11/1/1946   \n2               2  194611020CHS   NBA        0     1947  11/2/1946   \n3               2  194611020CHS   NBA        1     1947  11/2/1946   \n4               3  194611020DTF   NBA        0     1947  11/2/1946   \n...           ...           ...   ...      ...      ...        ...   \n126309      63155  201506110CLE   NBA        0     2015  6/11/2015   \n126310      63156  201506140GSW   NBA        0     2015  6/14/2015   \n126311      63156  201506140GSW   NBA        1     2015  6/14/2015   \n126312      63157  201506170CLE   NBA        0     2015  6/16/2015   \n126313      63157  201506170CLE   NBA        1     2015  6/16/2015   \n\n        seasongame  is_playoffs team_id    fran_id  ...  opp_id   opp_fran  \\\n0                1            0     TRH    Huskies  ...     NYK     Knicks   \n1                1            0     NYK     Knicks  ...     TRH    Huskies   \n2                1            0     CHS      Stags  ...     NYK     Knicks   \n3                2            0     NYK     Knicks  ...     CHS      Stags   \n4                1            0     DTF    Falcons  ...     WSC   Capitols   \n...            ...          ...     ...        ...  ...     ...        ...   \n126309         100            1     CLE  Cavaliers  ...     GSW   Warriors   \n126310         102            1     GSW   Warriors  ...     CLE  Cavaliers   \n126311         101            1     CLE  Cavaliers  ...     GSW   Warriors   \n126312         102            1     CLE  Cavaliers  ...     GSW   Warriors   \n126313         103            1     GSW   Warriors  ...     CLE  Cavaliers   \n\n        opp_pts  opp_elo_i  opp_elo_n game_location  game_result  forecast  \\\n0            68  1300.0000  1306.7233             H            L  0.640065   \n1            66  1300.0000  1293.2767             A            W  0.359935   \n2            47  1306.7233  1297.0712             H            W  0.631101   \n3            63  1300.0000  1309.6521             A            L  0.368899   \n4            50  1300.0000  1320.3811             H            L  0.640065   \n...         ...        ...        ...           ...          ...       ...   \n126309      103  1790.9591  1809.9791             H            L  0.546572   \n126310       91  1704.3949  1700.7391             H            W  0.765565   \n126311      104  1809.9791  1813.6349             A            L  0.234435   \n126312      105  1813.6349  1822.2881             H            L  0.481450   \n126313       97  1700.7391  1692.0859             A            W  0.518550   \n\n        notes difference  \n0         NaN         -2  \n1         NaN          2  \n2         NaN         16  \n3         NaN        -16  \n4         NaN        -17  \n...       ...        ...  \n126309    NaN        -21  \n126310    NaN         13  \n126311    NaN        -13  \n126312    NaN         -8  \n126313    NaN          8  \n\n[126314 rows x 24 columns]",
      "text/html": "<div>\n<style scoped>\n    .dataframe tbody tr th:only-of-type {\n        vertical-align: middle;\n    }\n\n    .dataframe tbody tr th {\n        vertical-align: top;\n    }\n\n    .dataframe thead th {\n        text-align: right;\n    }\n</style>\n<table border=\"1\" class=\"dataframe\">\n  <thead>\n    <tr style=\"text-align: right;\">\n      <th></th>\n      <th>gameorder</th>\n      <th>game_id</th>\n      <th>lg_id</th>\n      <th>_iscopy</th>\n      <th>year_id</th>\n      <th>date_game</th>\n      <th>seasongame</th>\n      <th>is_playoffs</th>\n      <th>team_id</th>\n      <th>fran_id</th>\n      <th>...</th>\n      <th>opp_id</th>\n      <th>opp_fran</th>\n      <th>opp_pts</th>\n      <th>opp_elo_i</th>\n      <th>opp_elo_n</th>\n      <th>game_location</th>\n      <th>game_result</th>\n      <th>forecast</th>\n      <th>notes</th>\n      <th>difference</th>\n    </tr>\n  </thead>\n  <tbody>\n    <tr>\n      <th>0</th>\n      <td>1</td>\n      <td>194611010TRH</td>\n      <td>NBA</td>\n      <td>0</td>\n      <td>1947</td>\n      <td>11/1/1946</td>\n      <td>1</td>\n      <td>0</td>\n      <td>TRH</td>\n      <td>Huskies</td>\n      <td>...</td>\n      <td>NYK</td>\n      <td>Knicks</td>\n      <td>68</td>\n      <td>1300.0000</td>\n      <td>1306.7233</td>\n      <td>H</td>\n      <td>L</td>\n      <td>0.640065</td>\n      <td>NaN</td>\n      <td>-2</td>\n    </tr>\n    <tr>\n      <th>1</th>\n      <td>1</td>\n      <td>194611010TRH</td>\n      <td>NBA</td>\n      <td>1</td>\n      <td>1947</td>\n      <td>11/1/1946</td>\n      <td>1</td>\n      <td>0</td>\n      <td>NYK</td>\n      <td>Knicks</td>\n      <td>...</td>\n      <td>TRH</td>\n      <td>Huskies</td>\n      <td>66</td>\n      <td>1300.0000</td>\n      <td>1293.2767</td>\n      <td>A</td>\n      <td>W</td>\n      <td>0.359935</td>\n      <td>NaN</td>\n      <td>2</td>\n    </tr>\n    <tr>\n      <th>2</th>\n      <td>2</td>\n      <td>194611020CHS</td>\n      <td>NBA</td>\n      <td>0</td>\n      <td>1947</td>\n      <td>11/2/1946</td>\n      <td>1</td>\n      <td>0</td>\n      <td>CHS</td>\n      <td>Stags</td>\n      <td>...</td>\n      <td>NYK</td>\n      <td>Knicks</td>\n      <td>47</td>\n      <td>1306.7233</td>\n      <td>1297.0712</td>\n      <td>H</td>\n      <td>W</td>\n      <td>0.631101</td>\n      <td>NaN</td>\n      <td>16</td>\n    </tr>\n    <tr>\n      <th>3</th>\n      <td>2</td>\n      <td>194611020CHS</td>\n      <td>NBA</td>\n      <td>1</td>\n      <td>1947</td>\n      <td>11/2/1946</td>\n      <td>2</td>\n      <td>0</td>\n      <td>NYK</td>\n      <td>Knicks</td>\n      <td>...</td>\n      <td>CHS</td>\n      <td>Stags</td>\n      <td>63</td>\n      <td>1300.0000</td>\n      <td>1309.6521</td>\n      <td>A</td>\n      <td>L</td>\n      <td>0.368899</td>\n      <td>NaN</td>\n      <td>-16</td>\n    </tr>\n    <tr>\n      <th>4</th>\n      <td>3</td>\n      <td>194611020DTF</td>\n      <td>NBA</td>\n      <td>0</td>\n      <td>1947</td>\n      <td>11/2/1946</td>\n      <td>1</td>\n      <td>0</td>\n      <td>DTF</td>\n      <td>Falcons</td>\n      <td>...</td>\n      <td>WSC</td>\n      <td>Capitols</td>\n      <td>50</td>\n      <td>1300.0000</td>\n      <td>1320.3811</td>\n      <td>H</td>\n      <td>L</td>\n      <td>0.640065</td>\n      <td>NaN</td>\n      <td>-17</td>\n    </tr>\n    <tr>\n      <th>...</th>\n      <td>...</td>\n      <td>...</td>\n      <td>...</td>\n      <td>...</td>\n      <td>...</td>\n      <td>...</td>\n      <td>...</td>\n      <td>...</td>\n      <td>...</td>\n      <td>...</td>\n      <td>...</td>\n      <td>...</td>\n      <td>...</td>\n      <td>...</td>\n      <td>...</td>\n      <td>...</td>\n      <td>...</td>\n      <td>...</td>\n      <td>...</td>\n      <td>...</td>\n      <td>...</td>\n    </tr>\n    <tr>\n      <th>126309</th>\n      <td>63155</td>\n      <td>201506110CLE</td>\n      <td>NBA</td>\n      <td>0</td>\n      <td>2015</td>\n      <td>6/11/2015</td>\n      <td>100</td>\n      <td>1</td>\n      <td>CLE</td>\n      <td>Cavaliers</td>\n      <td>...</td>\n      <td>GSW</td>\n      <td>Warriors</td>\n      <td>103</td>\n      <td>1790.9591</td>\n      <td>1809.9791</td>\n      <td>H</td>\n      <td>L</td>\n      <td>0.546572</td>\n      <td>NaN</td>\n      <td>-21</td>\n    </tr>\n    <tr>\n      <th>126310</th>\n      <td>63156</td>\n      <td>201506140GSW</td>\n      <td>NBA</td>\n      <td>0</td>\n      <td>2015</td>\n      <td>6/14/2015</td>\n      <td>102</td>\n      <td>1</td>\n      <td>GSW</td>\n      <td>Warriors</td>\n      <td>...</td>\n      <td>CLE</td>\n      <td>Cavaliers</td>\n      <td>91</td>\n      <td>1704.3949</td>\n      <td>1700.7391</td>\n      <td>H</td>\n      <td>W</td>\n      <td>0.765565</td>\n      <td>NaN</td>\n      <td>13</td>\n    </tr>\n    <tr>\n      <th>126311</th>\n      <td>63156</td>\n      <td>201506140GSW</td>\n      <td>NBA</td>\n      <td>1</td>\n      <td>2015</td>\n      <td>6/14/2015</td>\n      <td>101</td>\n      <td>1</td>\n      <td>CLE</td>\n      <td>Cavaliers</td>\n      <td>...</td>\n      <td>GSW</td>\n      <td>Warriors</td>\n      <td>104</td>\n      <td>1809.9791</td>\n      <td>1813.6349</td>\n      <td>A</td>\n      <td>L</td>\n      <td>0.234435</td>\n      <td>NaN</td>\n      <td>-13</td>\n    </tr>\n    <tr>\n      <th>126312</th>\n      <td>63157</td>\n      <td>201506170CLE</td>\n      <td>NBA</td>\n      <td>0</td>\n      <td>2015</td>\n      <td>6/16/2015</td>\n      <td>102</td>\n      <td>1</td>\n      <td>CLE</td>\n      <td>Cavaliers</td>\n      <td>...</td>\n      <td>GSW</td>\n      <td>Warriors</td>\n      <td>105</td>\n      <td>1813.6349</td>\n      <td>1822.2881</td>\n      <td>H</td>\n      <td>L</td>\n      <td>0.481450</td>\n      <td>NaN</td>\n      <td>-8</td>\n    </tr>\n    <tr>\n      <th>126313</th>\n      <td>63157</td>\n      <td>201506170CLE</td>\n      <td>NBA</td>\n      <td>1</td>\n      <td>2015</td>\n      <td>6/16/2015</td>\n      <td>103</td>\n      <td>1</td>\n      <td>GSW</td>\n      <td>Warriors</td>\n      <td>...</td>\n      <td>CLE</td>\n      <td>Cavaliers</td>\n      <td>97</td>\n      <td>1700.7391</td>\n      <td>1692.0859</td>\n      <td>A</td>\n      <td>W</td>\n      <td>0.518550</td>\n      <td>NaN</td>\n      <td>8</td>\n    </tr>\n  </tbody>\n</table>\n<p>126314 rows × 24 columns</p>\n</div>"
     },
     "execution_count": 58,
     "metadata": {},
     "output_type": "execute_result"
    }
   ],
   "source": [
    "nba[\"difference\"] = df.pts - df.opp_pts\n",
    "nba"
   ],
   "metadata": {
    "collapsed": false
   }
  },
  {
   "cell_type": "code",
   "execution_count": 59,
   "outputs": [
    {
     "data": {
      "text/plain": "(126314, 24)"
     },
     "execution_count": 59,
     "metadata": {},
     "output_type": "execute_result"
    }
   ],
   "source": [
    "nba.shape"
   ],
   "metadata": {
    "collapsed": false
   }
  },
  {
   "cell_type": "code",
   "execution_count": 60,
   "outputs": [
    {
     "data": {
      "text/plain": "68"
     },
     "execution_count": 60,
     "metadata": {},
     "output_type": "execute_result"
    }
   ],
   "source": [
    "nba[\"difference\"].max()"
   ],
   "metadata": {
    "collapsed": false
   }
  },
  {
   "cell_type": "code",
   "execution_count": 61,
   "outputs": [
    {
     "data": {
      "text/plain": "   gameorder       game_id lg_id  _iscopy  year_id  date_game  seasongame  \\\n0          1  194611010TRH   NBA        0     1947  11/1/1946           1   \n1          1  194611010TRH   NBA        1     1947  11/1/1946           1   \n2          2  194611020CHS   NBA        0     1947  11/2/1946           1   \n3          2  194611020CHS   NBA        1     1947  11/2/1946           2   \n4          3  194611020DTF   NBA        0     1947  11/2/1946           1   \n\n   is_playoffs team_id  fran_id  ...  opp_id  opp_fran  opp_pts  opp_elo_i  \\\n0            0     TRH  Huskies  ...     NYK    Knicks       68  1300.0000   \n1            0     NYK   Knicks  ...     TRH   Huskies       66  1300.0000   \n2            0     CHS    Stags  ...     NYK    Knicks       47  1306.7233   \n3            0     NYK   Knicks  ...     CHS     Stags       63  1300.0000   \n4            0     DTF  Falcons  ...     WSC  Capitols       50  1300.0000   \n\n   opp_elo_n location  result  forecast  notes difference  \n0  1306.7233        H       L  0.640065    NaN         -2  \n1  1293.2767        A       W  0.359935    NaN          2  \n2  1297.0712        H       W  0.631101    NaN         16  \n3  1309.6521        A       L  0.368899    NaN        -16  \n4  1320.3811        H       L  0.640065    NaN        -17  \n\n[5 rows x 24 columns]",
      "text/html": "<div>\n<style scoped>\n    .dataframe tbody tr th:only-of-type {\n        vertical-align: middle;\n    }\n\n    .dataframe tbody tr th {\n        vertical-align: top;\n    }\n\n    .dataframe thead th {\n        text-align: right;\n    }\n</style>\n<table border=\"1\" class=\"dataframe\">\n  <thead>\n    <tr style=\"text-align: right;\">\n      <th></th>\n      <th>gameorder</th>\n      <th>game_id</th>\n      <th>lg_id</th>\n      <th>_iscopy</th>\n      <th>year_id</th>\n      <th>date_game</th>\n      <th>seasongame</th>\n      <th>is_playoffs</th>\n      <th>team_id</th>\n      <th>fran_id</th>\n      <th>...</th>\n      <th>opp_id</th>\n      <th>opp_fran</th>\n      <th>opp_pts</th>\n      <th>opp_elo_i</th>\n      <th>opp_elo_n</th>\n      <th>location</th>\n      <th>result</th>\n      <th>forecast</th>\n      <th>notes</th>\n      <th>difference</th>\n    </tr>\n  </thead>\n  <tbody>\n    <tr>\n      <th>0</th>\n      <td>1</td>\n      <td>194611010TRH</td>\n      <td>NBA</td>\n      <td>0</td>\n      <td>1947</td>\n      <td>11/1/1946</td>\n      <td>1</td>\n      <td>0</td>\n      <td>TRH</td>\n      <td>Huskies</td>\n      <td>...</td>\n      <td>NYK</td>\n      <td>Knicks</td>\n      <td>68</td>\n      <td>1300.0000</td>\n      <td>1306.7233</td>\n      <td>H</td>\n      <td>L</td>\n      <td>0.640065</td>\n      <td>NaN</td>\n      <td>-2</td>\n    </tr>\n    <tr>\n      <th>1</th>\n      <td>1</td>\n      <td>194611010TRH</td>\n      <td>NBA</td>\n      <td>1</td>\n      <td>1947</td>\n      <td>11/1/1946</td>\n      <td>1</td>\n      <td>0</td>\n      <td>NYK</td>\n      <td>Knicks</td>\n      <td>...</td>\n      <td>TRH</td>\n      <td>Huskies</td>\n      <td>66</td>\n      <td>1300.0000</td>\n      <td>1293.2767</td>\n      <td>A</td>\n      <td>W</td>\n      <td>0.359935</td>\n      <td>NaN</td>\n      <td>2</td>\n    </tr>\n    <tr>\n      <th>2</th>\n      <td>2</td>\n      <td>194611020CHS</td>\n      <td>NBA</td>\n      <td>0</td>\n      <td>1947</td>\n      <td>11/2/1946</td>\n      <td>1</td>\n      <td>0</td>\n      <td>CHS</td>\n      <td>Stags</td>\n      <td>...</td>\n      <td>NYK</td>\n      <td>Knicks</td>\n      <td>47</td>\n      <td>1306.7233</td>\n      <td>1297.0712</td>\n      <td>H</td>\n      <td>W</td>\n      <td>0.631101</td>\n      <td>NaN</td>\n      <td>16</td>\n    </tr>\n    <tr>\n      <th>3</th>\n      <td>2</td>\n      <td>194611020CHS</td>\n      <td>NBA</td>\n      <td>1</td>\n      <td>1947</td>\n      <td>11/2/1946</td>\n      <td>2</td>\n      <td>0</td>\n      <td>NYK</td>\n      <td>Knicks</td>\n      <td>...</td>\n      <td>CHS</td>\n      <td>Stags</td>\n      <td>63</td>\n      <td>1300.0000</td>\n      <td>1309.6521</td>\n      <td>A</td>\n      <td>L</td>\n      <td>0.368899</td>\n      <td>NaN</td>\n      <td>-16</td>\n    </tr>\n    <tr>\n      <th>4</th>\n      <td>3</td>\n      <td>194611020DTF</td>\n      <td>NBA</td>\n      <td>0</td>\n      <td>1947</td>\n      <td>11/2/1946</td>\n      <td>1</td>\n      <td>0</td>\n      <td>DTF</td>\n      <td>Falcons</td>\n      <td>...</td>\n      <td>WSC</td>\n      <td>Capitols</td>\n      <td>50</td>\n      <td>1300.0000</td>\n      <td>1320.3811</td>\n      <td>H</td>\n      <td>L</td>\n      <td>0.640065</td>\n      <td>NaN</td>\n      <td>-17</td>\n    </tr>\n  </tbody>\n</table>\n<p>5 rows × 24 columns</p>\n</div>"
     },
     "execution_count": 61,
     "metadata": {},
     "output_type": "execute_result"
    }
   ],
   "source": [
    "renamed_nba = nba.rename(\n",
    "    columns={\"game_result\": \"result\", \"game_location\": \"location\"}\n",
    ")\n",
    "\n",
    "renamed_nba.head()"
   ],
   "metadata": {
    "collapsed": false
   }
  },
  {
   "cell_type": "code",
   "execution_count": null,
   "outputs": [],
   "source": [],
   "metadata": {
    "collapsed": false
   }
  }
 ],
 "metadata": {
  "kernelspec": {
   "display_name": "Python 3",
   "language": "python",
   "name": "python3"
  },
  "language_info": {
   "codemirror_mode": {
    "name": "ipython",
    "version": 2
   },
   "file_extension": ".py",
   "mimetype": "text/x-python",
   "name": "python",
   "nbconvert_exporter": "python",
   "pygments_lexer": "ipython2",
   "version": "2.7.6"
  }
 },
 "nbformat": 4,
 "nbformat_minor": 0
}
