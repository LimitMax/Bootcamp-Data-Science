{
 "cells": [
  {
   "cell_type": "markdown",
   "source": [
    "Function, Basic Module, and Package\n",
    "Function adalah sebuah blok kode yang dapat dipanggil berulang kali sesuai dengan inputan. Di python, function menggunakan notasi def: kemudian diikuti dengan argumen."
   ],
   "metadata": {
    "collapsed": false
   }
  },
  {
   "cell_type": "code",
   "execution_count": 56,
   "outputs": [
    {
     "name": "stdout",
     "output_type": "stream",
     "text": [
      "Luas persegi panjang adalah: 20\n"
     ]
    }
   ],
   "source": [
    "#example\n",
    "def luasPersegiPanjang(p,l):\n",
    "    luas = p*l\n",
    "    print('Luas persegi panjang adalah:',luas)\n",
    "\n",
    "luasPersegiPanjang(4,5)"
   ],
   "metadata": {
    "collapsed": false
   }
  },
  {
   "cell_type": "code",
   "execution_count": 55,
   "outputs": [
    {
     "data": {
      "text/plain": "10.0"
     },
     "execution_count": 55,
     "metadata": {},
     "output_type": "execute_result"
    }
   ],
   "source": [
    "#use return\n",
    "def luasSegitiga(a,t):\n",
    "    luas = 0.5*a*t\n",
    "    return luas\n",
    "    print('Luas segitiga adalah: ',luas)\n",
    "\n",
    "\n",
    "luasSegitiga(4,5)"
   ],
   "metadata": {
    "collapsed": false
   }
  },
  {
   "cell_type": "markdown",
   "source": [
    "Hasilnya 10 karena sebelum print() sudah di return terlebih dahulu,sehingga untuk print tidak terpanggil"
   ],
   "metadata": {
    "collapsed": false
   }
  },
  {
   "cell_type": "markdown",
   "source": [
    "Global variabel dan local variabel\n",
    "- Global variabel adalah sebuah variabel yang berada diluar function dan dapat diakses dari posisi mana saja\n",
    "- Local variabel adalah sebuah variabel yang ada di dalam sebuah function dan hanya bisa diakses pada function tersebut saja"
   ],
   "metadata": {
    "collapsed": false
   }
  },
  {
   "cell_type": "code",
   "execution_count": 66,
   "outputs": [
    {
     "name": "stdout",
     "output_type": "stream",
     "text": [
      "Keliling persegi setelah ditambah 1 adalah:  13\n"
     ]
    }
   ],
   "source": [
    "#global variabel\n",
    "x = int(input('Masukan angka yang ingin ditambah: '))\n",
    "\n",
    "def kelilingPersegi(s):\n",
    "    keliling = 4*s + x\n",
    "    print('Keliling persegi setelah ditambah',x, 'adalah: ', keliling)\n",
    "\n",
    "#input s from user\n",
    "s = int(input('Masukan sisi persegi: '))\n",
    "kelilingPersegi(s)"
   ],
   "metadata": {
    "collapsed": false
   }
  },
  {
   "cell_type": "code",
   "execution_count": 73,
   "outputs": [
    {
     "name": "stdout",
     "output_type": "stream",
     "text": [
      "Keliling persegi panjang setelah ditambah 2 adalah:  10\n",
      "2\n",
      "1\n"
     ]
    }
   ],
   "source": [
    "#local variabel\n",
    "def kelilingPersegiPanjang(p,l):\n",
    "    x = 2\n",
    "    keliling = 2*p + 2*l + x\n",
    "    print('Keliling persegi panjang setelah ditambah 2 adalah: ', keliling)\n",
    "    print(x)\n",
    "\n",
    "p = int(input('Masukan panjangnya : '))\n",
    "l = int(input('Masukan lebarnya : '))\n",
    "kelilingPersegiPanjang(p,l)\n",
    "print(x)"
   ],
   "metadata": {
    "collapsed": false
   }
  },
  {
   "cell_type": "markdown",
   "source": [
    "ketika x dipanggil diluar function maka muncul nilai default dari variabel di python yaitu true, tapi apabila x dipanggil dalam function maka akan muncul nilai 2"
   ],
   "metadata": {
    "collapsed": false
   }
  }
 ],
 "metadata": {
  "kernelspec": {
   "display_name": "Python 3",
   "language": "python",
   "name": "python3"
  },
  "language_info": {
   "codemirror_mode": {
    "name": "ipython",
    "version": 2
   },
   "file_extension": ".py",
   "mimetype": "text/x-python",
   "name": "python",
   "nbconvert_exporter": "python",
   "pygments_lexer": "ipython2",
   "version": "2.7.6"
  }
 },
 "nbformat": 4,
 "nbformat_minor": 0
}
