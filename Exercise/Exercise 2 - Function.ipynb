{
 "cells": [
  {
   "cell_type": "markdown",
   "source": [
    "SOAL 1\n",
    "\n",
    "Buatlah sebuah fungsi untuk memasukkan sekumpulan angka ke dalam sebuah list. Data yang dimasukkan tersebut kemudian ditampilkan nilainya yang sudah dikalikan dengan 5. Berikut ini adalah outputnya."
   ],
   "metadata": {
    "collapsed": false
   }
  },
  {
   "cell_type": "code",
   "execution_count": 4,
   "outputs": [
    {
     "name": "stdout",
     "output_type": "stream",
     "text": [
      "[25, -25, 500]\n"
     ]
    }
   ],
   "source": [
    "angka = []\n",
    "\n",
    "def kaliLima(x):\n",
    "    for i in x :\n",
    "        angka.append(int(i))\n",
    "    kali5 = [i*5 for i in angka]\n",
    "    return kali5\n",
    "\n",
    "masukan = input('Masukan Angka : ').split()\n",
    "print (kaliLima(masukan))"
   ],
   "metadata": {
    "collapsed": false
   }
  },
  {
   "cell_type": "markdown",
   "source": [
    "SOAL 2"
   ],
   "metadata": {
    "collapsed": false
   }
  },
  {
   "cell_type": "code",
   "execution_count": 8,
   "outputs": [
    {
     "name": "stdout",
     "output_type": "stream",
     "text": [
      "[1, 2, 3, 4, 5]\n",
      "Rata-Ratanya Adalah 3.0\n",
      "Variansinya Adalah 2.5\n",
      "Standar Deviasinya Adalah 1.5811388300841898\n"
     ]
    }
   ],
   "source": [
    "import math\n",
    "data = []\n",
    "def masukan () :\n",
    "    n = int(input('Masukkan Banyakknya Data : '))\n",
    "    for i in range(n):\n",
    "        j = int(input('Data ke -' + str(i+1) + ' = '))\n",
    "        data.append(j)\n",
    "    print (data)\n",
    "\n",
    "def rata2 (data) :\n",
    "    jumlah = 0\n",
    "    for i in data :\n",
    "        jumlah += i\n",
    "    avg = jumlah/len(data)\n",
    "    return avg\n",
    "\n",
    "def varstdv (data) :\n",
    "    atas = 0\n",
    "    for i in data :\n",
    "        atas += (i-rata2(data))**2\n",
    "    bawah = len(data)-1\n",
    "    var = atas/bawah\n",
    "    stdv = math.sqrt(var)\n",
    "    print ('Variansinya Adalah', var)\n",
    "    print ('Standar Deviasinya Adalah', stdv)\n",
    "\n",
    "\n",
    "masukan()\n",
    "print (\"Rata-Ratanya Adalah\", rata2(data))\n",
    "varstdv(data)"
   ],
   "metadata": {
    "collapsed": false
   }
  },
  {
   "cell_type": "markdown",
   "source": [
    "SOAL 3\n",
    "Buatlah sebuah fungsi (tidak menggunakan fungsi yang sudah disediakan oleh python) untuk melakukan sorting secara ascending dari sebuah list. Pertama-tama, buatlah sebuah inputan untuk memasukan listnya. Tampilkan juga nilai terkecil dan terbesar dari list data tersebut tanpa menggunakan perintah atau fungsi yang telah tersedia oleh python."
   ],
   "metadata": {
    "collapsed": false
   }
  },
  {
   "cell_type": "code",
   "execution_count": 11,
   "outputs": [
    {
     "name": "stdout",
     "output_type": "stream",
     "text": [
      "[1, 3, 2, 4, 6, 3, 9]\n",
      "Hasil Sorting : [1, 2, 3, 3, 4, 6, 9]\n",
      "Nilai Terbesar Dari Data Adalah : 9\n",
      "Nilai Terkecil Dari Data Adalah : 1\n"
     ]
    }
   ],
   "source": [
    "data = []\n",
    "def ascending(x):\n",
    "# bubble sort, insertian sort\n",
    "    for i in range(len(x)):\n",
    "        for j in range(i+1, len(x)):\n",
    "            if x[i] > x[j]:\n",
    "                x[i], x[j] = x[j], x[i]\n",
    "    return x\n",
    "\n",
    "masukan = input('Masukan Angka : ').split()\n",
    "for i in masukan : data.append(int(i))\n",
    "\n",
    "print (data)\n",
    "print (\"Hasil Sorting :\", ascending(data))\n",
    "print (\"Nilai Terbesar Dari Data Adalah :\", ascending(data)[-1])\n",
    "print (\"Nilai Terkecil Dari Data Adalah :\", ascending(data)[0])\n"
   ],
   "metadata": {
    "collapsed": false
   }
  },
  {
   "cell_type": "markdown",
   "source": [
    "SOAL 4\n",
    "Buat sebuah fungsi untuk membalik setiap kata yang ada dalam sebuah kalimat. Berikut ini contoh outputnya."
   ],
   "metadata": {
    "collapsed": false
   }
  },
  {
   "cell_type": "code",
   "execution_count": 12,
   "outputs": [
    {
     "data": {
      "text/plain": "'oloyah'"
     },
     "execution_count": 12,
     "metadata": {},
     "output_type": "execute_result"
    }
   ],
   "source": [
    "def balikKata(kata):\n",
    "    kata = kata.split(' ')\n",
    "    for i in range(len(kata)):\n",
    "        kata[i] = kata[i][::-1]\n",
    "    return ' '.join(kata)\n",
    "\n",
    "kata = str(input('Masukan kalimat yang ingin dibalikan : '))\n",
    "balikKata(kata)"
   ],
   "metadata": {
    "collapsed": false
   }
  },
  {
   "cell_type": "markdown",
   "source": [
    "SOAL 5\n",
    "Buatlah sebuah fungsi untuk menghitung jumlah upper case dan lower case character"
   ],
   "metadata": {
    "collapsed": false
   }
  },
  {
   "cell_type": "code",
   "execution_count": 13,
   "outputs": [
    {
     "name": "stdout",
     "output_type": "stream",
     "text": [
      "Kalimat Original:  kAMU TAu aku tidak gaesY\n",
      "Jumlah huruf kapital dalam kalimat adalah:  6\n",
      "Jumlah huruf non kapital dalam kalimat adalah:  14\n"
     ]
    }
   ],
   "source": [
    "def hitungKata(kata):\n",
    "    upper = 0\n",
    "    lower = 0\n",
    "    for i in kata:\n",
    "        if i.isupper():\n",
    "            upper += 1\n",
    "        elif i.islower():\n",
    "            lower += 1\n",
    "        else:\n",
    "            pass\n",
    "    print('Kalimat Original: ', kata)\n",
    "    print('Jumlah huruf kapital dalam kalimat adalah: ', upper)\n",
    "    print('Jumlah huruf non kapital dalam kalimat adalah: ', lower)\n",
    "\n",
    "kata = input('Masukkan Kalimat: ')\n",
    "hitungKata(kata)"
   ],
   "metadata": {
    "collapsed": false
   }
  }
 ],
 "metadata": {
  "kernelspec": {
   "display_name": "Python 3",
   "language": "python",
   "name": "python3"
  },
  "language_info": {
   "codemirror_mode": {
    "name": "ipython",
    "version": 2
   },
   "file_extension": ".py",
   "mimetype": "text/x-python",
   "name": "python",
   "nbconvert_exporter": "python",
   "pygments_lexer": "ipython2",
   "version": "2.7.6"
  }
 },
 "nbformat": 4,
 "nbformat_minor": 0
}
