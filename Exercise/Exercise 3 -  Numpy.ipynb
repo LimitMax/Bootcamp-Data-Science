{
 "cells": [
  {
   "cell_type": "code",
   "execution_count": 2,
   "outputs": [],
   "source": [
    "import numpy as np"
   ],
   "metadata": {
    "collapsed": false
   }
  },
  {
   "cell_type": "markdown",
   "source": [
    "SOAL 1\n",
    "- Buatlah sebuah array dengan perintah arrange yang nilai start dan end adalah sebuah input!\n",
    "- Dari array yang terbentuk tersebut, buatlah versi 2 dan 3 dimensinya!"
   ],
   "metadata": {
    "collapsed": false
   }
  },
  {
   "cell_type": "code",
   "execution_count": 4,
   "outputs": [
    {
     "name": "stdout",
     "output_type": "stream",
     "text": [
      "[ 1  2  3  4  5  6  7  8  9 10 11 12 13 14 15 16 17 18 19 20 21 22 23 24\n",
      " 25 26 27]\n"
     ]
    }
   ],
   "source": [
    "#array dengan perintah arrange yang nilai start dan end adalah sebuah input!\n",
    "def array(start, end):\n",
    "    return np.arange(start, end)\n",
    "\n",
    "#input start dan end\n",
    "start = int(input(\"Masukkan nilai start: \"))\n",
    "end = int(input(\"Masukkan nilai end: \"))\n",
    "\n",
    "#memanggil fungsi array\n",
    "x = array(start, end)\n",
    "print(x)"
   ],
   "metadata": {
    "collapsed": false
   }
  },
  {
   "cell_type": "code",
   "execution_count": 5,
   "outputs": [
    {
     "data": {
      "text/plain": "array([[ 1,  2,  3,  4,  5,  6,  7,  8,  9],\n       [10, 11, 12, 13, 14, 15, 16, 17, 18],\n       [19, 20, 21, 22, 23, 24, 25, 26, 27]])"
     },
     "execution_count": 5,
     "metadata": {},
     "output_type": "execute_result"
    }
   ],
   "source": [
    "#ubah ke array 2 dimensi\n",
    "x.reshape(3,9)"
   ],
   "metadata": {
    "collapsed": false
   }
  },
  {
   "cell_type": "code",
   "execution_count": 6,
   "outputs": [
    {
     "data": {
      "text/plain": "array([[[ 1,  2,  3],\n        [ 4,  5,  6],\n        [ 7,  8,  9]],\n\n       [[10, 11, 12],\n        [13, 14, 15],\n        [16, 17, 18]],\n\n       [[19, 20, 21],\n        [22, 23, 24],\n        [25, 26, 27]]])"
     },
     "execution_count": 6,
     "metadata": {},
     "output_type": "execute_result"
    }
   ],
   "source": [
    "#3D\n",
    "x.reshape(3,3,3)"
   ],
   "metadata": {
    "collapsed": false
   }
  },
  {
   "cell_type": "markdown",
   "source": [
    "SOAL 2\n",
    "Buatlah sebuah array 1 dimensi dari data random integer sebanyak “n”, dimana “n” tersebut adalah sebuah input !\n",
    "Batasan random juga ditentukan dalam input.\n",
    "Ubahlah array 1 dimensi tersebut ke dalam bentuk 2 dimensi atau matrix!\n",
    "Setelah diubah ke bentuk 2 dimensi, setiap barisnya baliklah urutan datanya! Misalnya dari 1, 2, 3 menjadi 3, 2, 1."
   ],
   "metadata": {
    "collapsed": false
   }
  },
  {
   "cell_type": "code",
   "execution_count": 7,
   "outputs": [],
   "source": [
    "#input\n",
    "n = int(input(\"Banyak data: \"))\n",
    "a = int(input(\"Mulai: \"))\n",
    "b = int(input(\"Selesai: \"))"
   ],
   "metadata": {
    "collapsed": false
   }
  },
  {
   "cell_type": "code",
   "execution_count": 8,
   "outputs": [
    {
     "name": "stdout",
     "output_type": "stream",
     "text": [
      "array 1D :  [16 49 39 13 49 21  2 16 39 17 17  8 22 28 28 34]\n"
     ]
    }
   ],
   "source": [
    "#bangkitkan array 1 dimensi dari random integer\n",
    "arr = np.random.randint(a, b, n)\n",
    "print('array 1D : ',arr)"
   ],
   "metadata": {
    "collapsed": false
   }
  },
  {
   "cell_type": "code",
   "execution_count": 9,
   "outputs": [
    {
     "name": "stdout",
     "output_type": "stream",
     "text": [
      "[[16 49 39 13]\n",
      " [49 21  2 16]\n",
      " [39 17 17  8]\n",
      " [22 28 28 34]]\n"
     ]
    }
   ],
   "source": [
    "#Ubah ke 2D\n",
    "arr = arr.reshape(4,4)\n",
    "print(arr)"
   ],
   "metadata": {
    "collapsed": false
   }
  },
  {
   "cell_type": "code",
   "execution_count": 10,
   "outputs": [
    {
     "name": "stdout",
     "output_type": "stream",
     "text": [
      "[[13 39 49 16]\n",
      " [16  2 21 49]\n",
      " [ 8 17 17 39]\n",
      " [34 28 28 22]]\n"
     ]
    }
   ],
   "source": [
    "#Tukar posisi\n",
    "arr = arr[:, ::-1]\n",
    "print(arr)"
   ],
   "metadata": {
    "collapsed": false
   }
  },
  {
   "cell_type": "markdown",
   "source": [
    "SOAL 3\n",
    "Buatlah sebuah array 2 dimensi dengan ukuran 10 x 10!\n",
    "Isi dari array tersebut adalah:\n",
    "• Sisi luarnya merupakan angka 4.\n",
    "• Selain sisi luar, angka yang ditampilkan adalah 0."
   ],
   "metadata": {
    "collapsed": false
   }
  },
  {
   "cell_type": "code",
   "execution_count": 11,
   "outputs": [
    {
     "name": "stdout",
     "output_type": "stream",
     "text": [
      "[[4. 4. 4. 4. 4. 4. 4. 4. 4. 4.]\n",
      " [4. 0. 0. 0. 0. 0. 0. 0. 0. 4.]\n",
      " [4. 0. 0. 0. 0. 0. 0. 0. 0. 4.]\n",
      " [4. 0. 0. 0. 0. 0. 0. 0. 0. 4.]\n",
      " [4. 0. 0. 0. 0. 0. 0. 0. 0. 4.]\n",
      " [4. 0. 0. 0. 0. 0. 0. 0. 0. 4.]\n",
      " [4. 0. 0. 0. 0. 0. 0. 0. 0. 4.]\n",
      " [4. 0. 0. 0. 0. 0. 0. 0. 0. 4.]\n",
      " [4. 0. 0. 0. 0. 0. 0. 0. 0. 4.]\n",
      " [4. 4. 4. 4. 4. 4. 4. 4. 4. 4.]]\n"
     ]
    }
   ],
   "source": [
    "#array 10x10\n",
    "x = np.zeros((10,10))\n",
    "\n",
    "#isi tiap sisi\n",
    "x[0] = 4 #atas\n",
    "x[-1] = 4 #bawah\n",
    "x[:,0] = 4 #kiri\n",
    "x[:,-1] = 4 #kanan\n",
    "\n",
    "print(x)"
   ],
   "metadata": {
    "collapsed": false
   }
  }
 ],
 "metadata": {
  "kernelspec": {
   "display_name": "Python 3",
   "language": "python",
   "name": "python3"
  },
  "language_info": {
   "codemirror_mode": {
    "name": "ipython",
    "version": 2
   },
   "file_extension": ".py",
   "mimetype": "text/x-python",
   "name": "python",
   "nbconvert_exporter": "python",
   "pygments_lexer": "ipython2",
   "version": "2.7.6"
  }
 },
 "nbformat": 4,
 "nbformat_minor": 0
}
