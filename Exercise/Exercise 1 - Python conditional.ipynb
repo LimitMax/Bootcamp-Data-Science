{
 "cells": [
  {
   "cell_type": "markdown",
   "source": [
    "SOAL 1 => Cek ganjil genap"
   ],
   "metadata": {
    "collapsed": false
   }
  },
  {
   "cell_type": "code",
   "execution_count": null,
   "outputs": [],
   "source": [
    "x = input('Marksman angka untuk di cek: ')\n",
    "\n",
    "if x % 2 == 0:\n",
    "    print('Angka', x , 'Tergolong genap')\n",
    "else:\n",
    "    print('Angka', x, 'Tergolong ganjil')"
   ],
   "metadata": {
    "collapsed": false
   }
  },
  {
   "cell_type": "markdown",
   "source": [
    "SOAL 2 - Menghitung IMT berat badan"
   ],
   "metadata": {
    "collapsed": false
   }
  },
  {
   "cell_type": "code",
   "execution_count": 1,
   "outputs": [
    {
     "name": "stdout",
     "output_type": "stream",
     "text": [
      "Massa  67.0 kg dan tinggi  1.78 m\n",
      "IMT =  21.146319909102385  ,berat badan ideal\n"
     ]
    }
   ],
   "source": [
    "massa = float(input('Masukan berat badan (KG): '))\n",
    "tinggi = float(input('Masukan tinggi badan (cm): '))\n",
    "\n",
    "#convert ke m\n",
    "height = tinggi/100\n",
    "\n",
    "#hitung IMT\n",
    "imt = massa/pow(height,2)\n",
    "\n",
    "print('Massa ',massa , 'kg dan tinggi ', height, 'm')\n",
    "\n",
    "if(imt < 18.5):\n",
    "    print(\"IMT = ', imt, ' ,berat badan kurang\")\n",
    "elif(imt <= 24.9):\n",
    "    print('IMT = ', imt, ' ,berat badan ideal')\n",
    "elif(imt <=29.9 ):\n",
    "    print('IMT = ', imt, ',berat badan berlebihan')\n",
    "elif(imt <= 39.9):\n",
    "    print('IMT = ', imt, 'berat badan sangat berlebihan')\n",
    "else:\n",
    "    print('IMT = ', imt, 'Obesitas')"
   ],
   "metadata": {
    "collapsed": false
   }
  },
  {
   "cell_type": "markdown",
   "source": [
    "SOAL 3 - Toko Sederhana"
   ],
   "metadata": {
    "collapsed": false
   }
  },
  {
   "cell_type": "code",
   "execution_count": 3,
   "outputs": [
    {
     "name": "stdout",
     "output_type": "stream",
     "text": [
      "Total:  160000\n",
      "\n",
      "\n",
      "Uang kembalian anda:  40000\n"
     ]
    }
   ],
   "source": [
    "# input data apel, jeruk, dan anggur\n",
    "x = int(input(\"Masukkan jumlah apel: \"))\n",
    "y = int(input(\"Masukkan jumlah jeruk: \"))\n",
    "z = int(input(\"Masukkan jumlah anggur: \"))\n",
    "\n",
    "# proses\n",
    "apel = x * 10000\n",
    "jeruk = y * 15000\n",
    "anggur = z * 20000\n",
    "\n",
    "total = apel + jeruk + anggur\n",
    "print(\"Total: \", total)\n",
    "\n",
    "# bayar\n",
    "print()\n",
    "bayar = int(input(\"Masukkan jumlah uang: \"))\n",
    "kembalian = bayar - total\n",
    "kurang = total - bayar\n",
    "\n",
    "# cek apakah uang cukup\n",
    "if bayar < total:\n",
    "    print()\n",
    "    print(\"Transaksi anda dibatalkan\")\n",
    "    print(\"Uangnya kurang sebesar: \", kurang)\n",
    "elif bayar == total:\n",
    "    print()\n",
    "    print(\"Terima kasih\")\n",
    "else:\n",
    "    print()\n",
    "    print(\"Uang kembalian anda: \", kembalian)"
   ],
   "metadata": {
    "collapsed": false
   }
  },
  {
   "cell_type": "code",
   "execution_count": null,
   "outputs": [],
   "source": [],
   "metadata": {
    "collapsed": false
   }
  }
 ],
 "metadata": {
  "kernelspec": {
   "display_name": "Python 3",
   "language": "python",
   "name": "python3"
  },
  "language_info": {
   "codemirror_mode": {
    "name": "ipython",
    "version": 2
   },
   "file_extension": ".py",
   "mimetype": "text/x-python",
   "name": "python",
   "nbconvert_exporter": "python",
   "pygments_lexer": "ipython2",
   "version": "2.7.6"
  }
 },
 "nbformat": 4,
 "nbformat_minor": 0
}
